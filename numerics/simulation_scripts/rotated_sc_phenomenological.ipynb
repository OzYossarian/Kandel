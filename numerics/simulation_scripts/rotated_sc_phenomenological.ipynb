{
 "cells": [
  {
   "cell_type": "code",
   "execution_count": 4,
   "metadata": {},
   "outputs": [],
   "source": [
    "from numerics.idling_experiment import IdlingExperiment\n",
    "from main.compiling.NoiseModel import PhenomenologicalNoise\n",
    "import numpy as np\n",
    "import matplotlib.pyplot as plt\n",
    "from scipy.optimize import curve_fit\n"
   ]
  },
  {
   "cell_type": "code",
   "execution_count": 5,
   "metadata": {},
   "outputs": [],
   "source": [
    "def calculate_ler(per,mer, distance,n_runs):\n",
    "    noise_model = PhenomenologicalNoise(per, mer)\n",
    "    exp = IdlingExperiment('RotatedSurfaceCode', distance, noise_model)\n",
    "    return(exp.calculate_ler(n_runs))\n",
    "\n",
    "def calculate_ler_array(per_array, mer_array, distance_array,n_runs):\n",
    "    ler_dict = dict()\n",
    "    for d in distance_array:\n",
    "        ler_dict[d] = dict()\n",
    "        for index, per in enumerate(per_array):\n",
    "            ler_dict[d][per] = calculate_ler(per, mer_array[index], d,n_runs)\n",
    "\n",
    "    return(ler_dict)"
   ]
  },
  {
   "cell_type": "code",
   "execution_count": 6,
   "metadata": {},
   "outputs": [],
   "source": [
    "def plot_ler(ler_dict):\n",
    "    for distance in ler_dict:\n",
    "        per_array = []\n",
    "        ler_array = []\n",
    "        for per in ler_dict[distance]:\n",
    "            ler_array.append(ler_dict[distance][per])\n",
    "            per_array.append(per)\n",
    "        plt.plot(per_array,ler_array, 'o',label = 'd =' + str(distance))\n",
    "    plt.yscale(\"log\")\n",
    "    plt.legend()\n"
   ]
  },
  {
   "cell_type": "code",
   "execution_count": 7,
   "metadata": {},
   "outputs": [],
   "source": [
    "def calculate_threshold(per_mer_ratio, n_runs, min_per, max_per):\n",
    "#    per_array_1 = np.arange(0.0005,0.01, 0.002)\n",
    "#    per_array_2 = np.arange(0.01, 0.06, 0.005)\n",
    "    per_array = np.linspace(min_per,max_per, 10)#np.hstack((per_array_1,per_array_2))\n",
    "    mer_array = per_mer_ratio*per_array\n",
    "    ler_dict = calculate_ler_array(per_array,mer_array,  np.arange(9, 22, 4), n_runs)\n",
    "    return(ler_dict)"
   ]
  },
  {
   "cell_type": "code",
   "execution_count": 8,
   "metadata": {},
   "outputs": [
    {
     "ename": "TypeError",
     "evalue": "calculate_threshold() missing 2 required positional arguments: 'min_per' and 'max_per'",
     "output_type": "error",
     "traceback": [
      "\u001b[0;31m---------------------------------------------------------------------------\u001b[0m",
      "\u001b[0;31mTypeError\u001b[0m                                 Traceback (most recent call last)",
      "\u001b[1;32m/home/pderks/Documents/phd/FaultTolerantQPU/numerics/simulation_scripts/rotated_sc_phenomenological.ipynb Cell 5'\u001b[0m in \u001b[0;36m<cell line: 1>\u001b[0;34m()\u001b[0m\n\u001b[0;32m----> <a href='vscode-notebook-cell:/home/pderks/Documents/phd/FaultTolerantQPU/numerics/simulation_scripts/rotated_sc_phenomenological.ipynb#ch0000004?line=0'>1</a>\u001b[0m ler_dict_10 \u001b[39m=\u001b[39m calculate_threshold(\u001b[39m10\u001b[39;49m,\u001b[39m10\u001b[39;49m)\n\u001b[1;32m      <a href='vscode-notebook-cell:/home/pderks/Documents/phd/FaultTolerantQPU/numerics/simulation_scripts/rotated_sc_phenomenological.ipynb#ch0000004?line=1'>2</a>\u001b[0m \u001b[39mprint\u001b[39m(ler_dict_10)\n\u001b[1;32m      <a href='vscode-notebook-cell:/home/pderks/Documents/phd/FaultTolerantQPU/numerics/simulation_scripts/rotated_sc_phenomenological.ipynb#ch0000004?line=2'>3</a>\u001b[0m plot_ler(ler_dict_10)\n",
      "\u001b[0;31mTypeError\u001b[0m: calculate_threshold() missing 2 required positional arguments: 'min_per' and 'max_per'"
     ]
    }
   ],
   "source": [
    "ler_dict_10 = calculate_threshold(10,10)\n",
    "print(ler_dict_10)\n",
    "plot_ler(ler_dict_10)"
   ]
  },
  {
   "cell_type": "code",
   "execution_count": 9,
   "metadata": {},
   "outputs": [
    {
     "ename": "TypeError",
     "evalue": "calculate_threshold() missing 3 required positional arguments: 'n_runs', 'min_per', and 'max_per'",
     "output_type": "error",
     "traceback": [
      "\u001b[0;31m---------------------------------------------------------------------------\u001b[0m",
      "\u001b[0;31mTypeError\u001b[0m                                 Traceback (most recent call last)",
      "\u001b[1;32m/home/pderks/Documents/phd/FaultTolerantQPU/numerics/simulation_scripts/rotated_sc_phenomenological.ipynb Cell 6'\u001b[0m in \u001b[0;36m<cell line: 1>\u001b[0;34m()\u001b[0m\n\u001b[0;32m----> <a href='vscode-notebook-cell:/home/pderks/Documents/phd/FaultTolerantQPU/numerics/simulation_scripts/rotated_sc_phenomenological.ipynb#ch0000005?line=0'>1</a>\u001b[0m ler_dict_1 \u001b[39m=\u001b[39m calculate_threshold(\u001b[39m1\u001b[39;49m)\n\u001b[1;32m      <a href='vscode-notebook-cell:/home/pderks/Documents/phd/FaultTolerantQPU/numerics/simulation_scripts/rotated_sc_phenomenological.ipynb#ch0000005?line=1'>2</a>\u001b[0m \u001b[39mprint\u001b[39m(ler_dict_1)\n\u001b[1;32m      <a href='vscode-notebook-cell:/home/pderks/Documents/phd/FaultTolerantQPU/numerics/simulation_scripts/rotated_sc_phenomenological.ipynb#ch0000005?line=2'>3</a>\u001b[0m plot_ler(ler_dict_1)\n",
      "\u001b[0;31mTypeError\u001b[0m: calculate_threshold() missing 3 required positional arguments: 'n_runs', 'min_per', and 'max_per'"
     ]
    }
   ],
   "source": [
    "ler_dict_1 = calculate_threshold(1)\n",
    "print(ler_dict_1)\n",
    "plot_ler(ler_dict_1)"
   ]
  },
  {
   "cell_type": "code",
   "execution_count": 10,
   "metadata": {},
   "outputs": [
    {
     "ename": "TypeError",
     "evalue": "calculate_threshold() missing 3 required positional arguments: 'n_runs', 'min_per', and 'max_per'",
     "output_type": "error",
     "traceback": [
      "\u001b[0;31m---------------------------------------------------------------------------\u001b[0m",
      "\u001b[0;31mTypeError\u001b[0m                                 Traceback (most recent call last)",
      "\u001b[1;32m/home/pderks/Documents/phd/FaultTolerantQPU/numerics/simulation_scripts/rotated_sc_phenomenological.ipynb Cell 7'\u001b[0m in \u001b[0;36m<cell line: 1>\u001b[0;34m()\u001b[0m\n\u001b[0;32m----> <a href='vscode-notebook-cell:/home/pderks/Documents/phd/FaultTolerantQPU/numerics/simulation_scripts/rotated_sc_phenomenological.ipynb#ch0000006?line=0'>1</a>\u001b[0m ler_dict_5 \u001b[39m=\u001b[39m calculate_threshold(\u001b[39m5\u001b[39;49m)\n\u001b[1;32m      <a href='vscode-notebook-cell:/home/pderks/Documents/phd/FaultTolerantQPU/numerics/simulation_scripts/rotated_sc_phenomenological.ipynb#ch0000006?line=1'>2</a>\u001b[0m \u001b[39mprint\u001b[39m(ler_dict_5)\n\u001b[1;32m      <a href='vscode-notebook-cell:/home/pderks/Documents/phd/FaultTolerantQPU/numerics/simulation_scripts/rotated_sc_phenomenological.ipynb#ch0000006?line=2'>3</a>\u001b[0m plot_ler(ler_dict_5)\n",
      "\u001b[0;31mTypeError\u001b[0m: calculate_threshold() missing 3 required positional arguments: 'n_runs', 'min_per', and 'max_per'"
     ]
    }
   ],
   "source": [
    "ler_dict_5 = calculate_threshold(5)\n",
    "print(ler_dict_5)\n",
    "plot_ler(ler_dict_5)"
   ]
  },
  {
   "cell_type": "code",
   "execution_count": 11,
   "metadata": {},
   "outputs": [
    {
     "data": {
      "text/plain": [
       "'\\nper_data is a 1d np.array of physical error rates\\nd_data is a 1d np.array of distances\\nler_data is a 1d np.array of logical error rates\\nfor example:\\nper_data =np.array([0.03,0.05,0.07,0.03,0.05,0.07,0.03,0.05,0.07])\\nler_data = np.array([0.01,0.04,0.1,0.005,0.03,0.12,0.002,0.025,0.15])\\nd_data = np.array([3,3,3,5,5,5,7,7,7])\\n'"
      ]
     },
     "execution_count": 11,
     "metadata": {},
     "output_type": "execute_result"
    }
   ],
   "source": [
    "def threshold_fit(variables, B0, B1, B2, mu, pth):\n",
    "    p, L = variables\n",
    "    return(B0 + B1*(p-pth)*pow(L, 1/mu) + B2*pow((p-pth) * pow(L, 1/mu), 2))\n",
    "\n",
    "\n",
    "def get_threshold(code_dicts, min_per=0, max_per=1, distance=[5, 7, 9]):\n",
    "    per_data = []\n",
    "    ler_data = []\n",
    "    d_data = []\n",
    "    for distance in code_dicts.keys():\n",
    "        print(distance)\n",
    "        ler_data.extend([code_dicts[distance][per]\n",
    "                        for per in code_dicts[distance]])\n",
    "        per_data.extend([per for per in code_dicts[distance]])\n",
    "        d_data.extend([distance for _ in range(len(code_dicts[distance]))])\n",
    "\n",
    "    popt, pcov = curve_fit(\n",
    "        threshold_fit, (per_data, d_data), ler_data, maxfev=20000)  # sigma deleted\n",
    "    threshold = popt[-1]\n",
    "    return(popt[-1])\n",
    "\n",
    "\n",
    "\"\"\"\n",
    "per_data is a 1d np.array of physical error rates\n",
    "d_data is a 1d np.array of distances\n",
    "ler_data is a 1d np.array of logical error rates\n",
    "for example:\n",
    "per_data =np.array([0.03,0.05,0.07,0.03,0.05,0.07,0.03,0.05,0.07])\n",
    "ler_data = np.array([0.01,0.04,0.1,0.005,0.03,0.12,0.002,0.025,0.15])\n",
    "d_data = np.array([3,3,3,5,5,5,7,7,7])\n",
    "\"\"\"\n"
   ]
  },
  {
   "cell_type": "code",
   "execution_count": 18,
   "metadata": {},
   "outputs": [],
   "source": [
    "n_runs =500\n",
    "thresholds = dict()\n",
    "ler_dict = dict()\n"
   ]
  },
  {
   "cell_type": "code",
   "execution_count": 19,
   "metadata": {},
   "outputs": [
    {
     "name": "stdout",
     "output_type": "stream",
     "text": [
      "9\n",
      "13\n",
      "17\n",
      "21\n",
      "{1: 0.03682575794418057}\n"
     ]
    },
    {
     "data": {
      "image/png": "[encoded data removed]",
      "text/plain": [
       "<Figure size 432x288 with 1 Axes>"
      ]
     },
     "metadata": {
      "needs_background": "light"
     },
     "output_type": "display_data"
    }
   ],
   "source": [
    "ratio = 1\n",
    "ler_dict[ratio] = calculate_threshold(ratio, n_runs, 0.02, 0.04)\n",
    "thresholds[ratio] = get_threshold(ler_dict[ratio])\n",
    "plot_ler(ler_dict[ratio])\n",
    "print(thresholds)"
   ]
  },
  {
   "cell_type": "code",
   "execution_count": 314,
   "metadata": {},
   "outputs": [
    {
     "name": "stdout",
     "output_type": "stream",
     "text": [
      "9\n",
      "13\n",
      "17\n",
      "21\n",
      "{1: 0.06636979971864788}\n"
     ]
    },
    {
     "ename": "KeyboardInterrupt",
     "evalue": "",
     "output_type": "error",
     "traceback": [
      "\u001b[0;31m---------------------------------------------------------------------------\u001b[0m",
      "\u001b[0;31mKeyboardInterrupt\u001b[0m                         Traceback (most recent call last)",
      "\u001b[1;32m/home/pderks/Documents/phd/FaultTolerantQPU/numerics/simulation_scripts/rotated_sc_phenomenological.ipynb Cell 11'\u001b[0m in \u001b[0;36m<cell line: 1>\u001b[0;34m()\u001b[0m\n\u001b[1;32m      <a href='vscode-notebook-cell:/home/pderks/Documents/phd/FaultTolerantQPU/numerics/simulation_scripts/rotated_sc_phenomenological.ipynb#ch0000012?line=0'>1</a>\u001b[0m \u001b[39mfor\u001b[39;00m ratio \u001b[39min\u001b[39;00m [\u001b[39m1\u001b[39m,\u001b[39m2\u001b[39m,\u001b[39m3\u001b[39m]:\n\u001b[0;32m----> <a href='vscode-notebook-cell:/home/pderks/Documents/phd/FaultTolerantQPU/numerics/simulation_scripts/rotated_sc_phenomenological.ipynb#ch0000012?line=1'>2</a>\u001b[0m     ler_dict[ratio] \u001b[39m=\u001b[39m calculate_threshold(ratio, n_runs, \u001b[39m0.025\u001b[39;49m, \u001b[39m0.035\u001b[39;49m)\n\u001b[1;32m      <a href='vscode-notebook-cell:/home/pderks/Documents/phd/FaultTolerantQPU/numerics/simulation_scripts/rotated_sc_phenomenological.ipynb#ch0000012?line=2'>3</a>\u001b[0m     thresholds[ratio] \u001b[39m=\u001b[39m (get_threshold(ler_dict[ratio]))\n\u001b[1;32m      <a href='vscode-notebook-cell:/home/pderks/Documents/phd/FaultTolerantQPU/numerics/simulation_scripts/rotated_sc_phenomenological.ipynb#ch0000012?line=4'>5</a>\u001b[0m     \u001b[39mprint\u001b[39m(thresholds)\n",
      "\u001b[1;32m/home/pderks/Documents/phd/FaultTolerantQPU/numerics/simulation_scripts/rotated_sc_phenomenological.ipynb Cell 4'\u001b[0m in \u001b[0;36mcalculate_threshold\u001b[0;34m(per_mer_ratio, n_runs, min_per, max_per)\u001b[0m\n\u001b[1;32m      <a href='vscode-notebook-cell:/home/pderks/Documents/phd/FaultTolerantQPU/numerics/simulation_scripts/rotated_sc_phenomenological.ipynb#ch0000003?line=3'>4</a>\u001b[0m per_array \u001b[39m=\u001b[39m np\u001b[39m.\u001b[39mlinspace(min_per,max_per, \u001b[39m10\u001b[39m)\u001b[39m#np.hstack((per_array_1,per_array_2))\u001b[39;00m\n\u001b[1;32m      <a href='vscode-notebook-cell:/home/pderks/Documents/phd/FaultTolerantQPU/numerics/simulation_scripts/rotated_sc_phenomenological.ipynb#ch0000003?line=4'>5</a>\u001b[0m mer_array \u001b[39m=\u001b[39m per_mer_ratio\u001b[39m*\u001b[39mper_array\n\u001b[0;32m----> <a href='vscode-notebook-cell:/home/pderks/Documents/phd/FaultTolerantQPU/numerics/simulation_scripts/rotated_sc_phenomenological.ipynb#ch0000003?line=5'>6</a>\u001b[0m ler_dict \u001b[39m=\u001b[39m calculate_ler_array(per_array,mer_array,  np\u001b[39m.\u001b[39;49marange(\u001b[39m9\u001b[39;49m, \u001b[39m22\u001b[39;49m, \u001b[39m4\u001b[39;49m), n_runs)\n\u001b[1;32m      <a href='vscode-notebook-cell:/home/pderks/Documents/phd/FaultTolerantQPU/numerics/simulation_scripts/rotated_sc_phenomenological.ipynb#ch0000003?line=6'>7</a>\u001b[0m \u001b[39mreturn\u001b[39;00m(ler_dict)\n",
      "\u001b[1;32m/home/pderks/Documents/phd/FaultTolerantQPU/numerics/simulation_scripts/rotated_sc_phenomenological.ipynb Cell 2'\u001b[0m in \u001b[0;36mcalculate_ler_array\u001b[0;34m(per_array, mer_array, distance_array, n_runs)\u001b[0m\n\u001b[1;32m      <a href='vscode-notebook-cell:/home/pderks/Documents/phd/FaultTolerantQPU/numerics/simulation_scripts/rotated_sc_phenomenological.ipynb#ch0000001?line=8'>9</a>\u001b[0m     ler_dict[d] \u001b[39m=\u001b[39m \u001b[39mdict\u001b[39m()\n\u001b[1;32m     <a href='vscode-notebook-cell:/home/pderks/Documents/phd/FaultTolerantQPU/numerics/simulation_scripts/rotated_sc_phenomenological.ipynb#ch0000001?line=9'>10</a>\u001b[0m     \u001b[39mfor\u001b[39;00m index, per \u001b[39min\u001b[39;00m \u001b[39menumerate\u001b[39m(per_array):\n\u001b[0;32m---> <a href='vscode-notebook-cell:/home/pderks/Documents/phd/FaultTolerantQPU/numerics/simulation_scripts/rotated_sc_phenomenological.ipynb#ch0000001?line=10'>11</a>\u001b[0m         ler_dict[d][per] \u001b[39m=\u001b[39m calculate_ler(per, mer_array[index], d,n_runs)\n\u001b[1;32m     <a href='vscode-notebook-cell:/home/pderks/Documents/phd/FaultTolerantQPU/numerics/simulation_scripts/rotated_sc_phenomenological.ipynb#ch0000001?line=12'>13</a>\u001b[0m \u001b[39mreturn\u001b[39;00m(ler_dict)\n",
      "\u001b[1;32m/home/pderks/Documents/phd/FaultTolerantQPU/numerics/simulation_scripts/rotated_sc_phenomenological.ipynb Cell 2'\u001b[0m in \u001b[0;36mcalculate_ler\u001b[0;34m(per, mer, distance, n_runs)\u001b[0m\n\u001b[1;32m      <a href='vscode-notebook-cell:/home/pderks/Documents/phd/FaultTolerantQPU/numerics/simulation_scripts/rotated_sc_phenomenological.ipynb#ch0000001?line=1'>2</a>\u001b[0m noise_model \u001b[39m=\u001b[39m PhenomenologicalNoise(per, mer)\n\u001b[1;32m      <a href='vscode-notebook-cell:/home/pderks/Documents/phd/FaultTolerantQPU/numerics/simulation_scripts/rotated_sc_phenomenological.ipynb#ch0000001?line=2'>3</a>\u001b[0m exp \u001b[39m=\u001b[39m IdlingExperiment(\u001b[39m'\u001b[39m\u001b[39mRotatedSurfaceCode\u001b[39m\u001b[39m'\u001b[39m, distance, noise_model)\n\u001b[0;32m----> <a href='vscode-notebook-cell:/home/pderks/Documents/phd/FaultTolerantQPU/numerics/simulation_scripts/rotated_sc_phenomenological.ipynb#ch0000001?line=3'>4</a>\u001b[0m \u001b[39mreturn\u001b[39;00m(exp\u001b[39m.\u001b[39;49mcalculate_ler(n_runs))\n",
      "File \u001b[0;32m~/Documents/phd/FaultTolerantQPU/numerics/idling_experiment.py:41\u001b[0m, in \u001b[0;36mIdlingExperiment.calculate_ler\u001b[0;34m(self, n_runs)\u001b[0m\n\u001b[1;32m     <a href='file:///home/pderks/Documents/phd/FaultTolerantQPU/numerics/idling_experiment.py?line=38'>39</a>\u001b[0m \u001b[39mdef\u001b[39;00m \u001b[39mcalculate_ler\u001b[39m(\u001b[39mself\u001b[39m, n_runs):\n\u001b[0;32m---> <a href='file:///home/pderks/Documents/phd/FaultTolerantQPU/numerics/idling_experiment.py?line=40'>41</a>\u001b[0m     shots \u001b[39m=\u001b[39m \u001b[39mself\u001b[39;49m\u001b[39m.\u001b[39;49msampler\u001b[39m.\u001b[39;49msample(shots\u001b[39m=\u001b[39;49mn_runs, append_observables\u001b[39m=\u001b[39;49m\u001b[39mTrue\u001b[39;49;00m)\n\u001b[1;32m     <a href='file:///home/pderks/Documents/phd/FaultTolerantQPU/numerics/idling_experiment.py?line=41'>42</a>\u001b[0m     detector_parts \u001b[39m=\u001b[39m shots[:, :\u001b[39mself\u001b[39m\u001b[39m.\u001b[39mcircuit\u001b[39m.\u001b[39mnum_detectors]\n\u001b[1;32m     <a href='file:///home/pderks/Documents/phd/FaultTolerantQPU/numerics/idling_experiment.py?line=42'>43</a>\u001b[0m     actual_observable_parts \u001b[39m=\u001b[39m shots[:, \u001b[39mself\u001b[39m\u001b[39m.\u001b[39mcircuit\u001b[39m.\u001b[39mnum_detectors:]\n",
      "File \u001b[0;32m~/anaconda3/envs/FTQPU_env/lib/python3.10/site-packages/numpy/core/_internal.py:595\u001b[0m, in \u001b[0;36m_dtype_from_pep3118\u001b[0;34m(spec)\u001b[0m\n\u001b[1;32m    <a href='file:///home/pderks/anaconda3/envs/FTQPU_env/lib/python3.10/site-packages/numpy/core/_internal.py?line=590'>591</a>\u001b[0m     \u001b[39mdef\u001b[39;00m \u001b[39m__bool__\u001b[39m(\u001b[39mself\u001b[39m):\n\u001b[1;32m    <a href='file:///home/pderks/anaconda3/envs/FTQPU_env/lib/python3.10/site-packages/numpy/core/_internal.py?line=591'>592</a>\u001b[0m         \u001b[39mreturn\u001b[39;00m \u001b[39mbool\u001b[39m(\u001b[39mself\u001b[39m\u001b[39m.\u001b[39ms)\n\u001b[0;32m--> <a href='file:///home/pderks/anaconda3/envs/FTQPU_env/lib/python3.10/site-packages/numpy/core/_internal.py?line=594'>595</a>\u001b[0m \u001b[39mdef\u001b[39;00m \u001b[39m_dtype_from_pep3118\u001b[39m(spec):\n\u001b[1;32m    <a href='file:///home/pderks/anaconda3/envs/FTQPU_env/lib/python3.10/site-packages/numpy/core/_internal.py?line=595'>596</a>\u001b[0m     stream \u001b[39m=\u001b[39m _Stream(spec)\n\u001b[1;32m    <a href='file:///home/pderks/anaconda3/envs/FTQPU_env/lib/python3.10/site-packages/numpy/core/_internal.py?line=596'>597</a>\u001b[0m     dtype, align \u001b[39m=\u001b[39m __dtype_from_pep3118(stream, is_subdtype\u001b[39m=\u001b[39m\u001b[39mFalse\u001b[39;00m)\n",
      "\u001b[0;31mKeyboardInterrupt\u001b[0m: "
     ]
    }
   ],
   "source": [
    "for ratio in [1,2,3]:\n",
    "    ler_dict[ratio] = calculate_threshold(ratio, n_runs, 0.025, 0.035)\n",
    "    thresholds[ratio] = (get_threshold(ler_dict[ratio]))\n",
    "\n",
    "    print(thresholds)"
   ]
  },
  {
   "cell_type": "code",
   "execution_count": 299,
   "metadata": {},
   "outputs": [
    {
     "ename": "KeyboardInterrupt",
     "evalue": "",
     "output_type": "error",
     "traceback": [
      "\u001b[0;31m---------------------------------------------------------------------------\u001b[0m",
      "\u001b[0;31mKeyboardInterrupt\u001b[0m                         Traceback (most recent call last)",
      "\u001b[1;32m/home/pderks/Documents/phd/FaultTolerantQPU/numerics/simulation_scripts/rotated_sc_phenomenological.ipynb Cell 12'\u001b[0m in \u001b[0;36m<cell line: 2>\u001b[0;34m()\u001b[0m\n\u001b[1;32m      <a href='vscode-notebook-cell:/home/pderks/Documents/phd/FaultTolerantQPU/numerics/simulation_scripts/rotated_sc_phenomenological.ipynb#ch0000013?line=0'>1</a>\u001b[0m n_runs\u001b[39m=\u001b[39m\u001b[39m5000\u001b[39m\n\u001b[1;32m      <a href='vscode-notebook-cell:/home/pderks/Documents/phd/FaultTolerantQPU/numerics/simulation_scripts/rotated_sc_phenomenological.ipynb#ch0000013?line=1'>2</a>\u001b[0m \u001b[39mfor\u001b[39;00m ratio \u001b[39min\u001b[39;00m np\u001b[39m.\u001b[39marange(\u001b[39m4\u001b[39m,\u001b[39m7\u001b[39m):\n\u001b[0;32m----> <a href='vscode-notebook-cell:/home/pderks/Documents/phd/FaultTolerantQPU/numerics/simulation_scripts/rotated_sc_phenomenological.ipynb#ch0000013?line=2'>3</a>\u001b[0m     ler_dict[ratio] \u001b[39m=\u001b[39m calculate_threshold(ratio, n_runs, \u001b[39m0.005\u001b[39;49m, \u001b[39m0.03\u001b[39;49m)\n\u001b[1;32m      <a href='vscode-notebook-cell:/home/pderks/Documents/phd/FaultTolerantQPU/numerics/simulation_scripts/rotated_sc_phenomenological.ipynb#ch0000013?line=3'>4</a>\u001b[0m     thresholds[ratio] \u001b[39m=\u001b[39m (get_threshold(ler_dict[ratio]))\n",
      "\u001b[1;32m/home/pderks/Documents/phd/FaultTolerantQPU/numerics/simulation_scripts/rotated_sc_phenomenological.ipynb Cell 4'\u001b[0m in \u001b[0;36mcalculate_threshold\u001b[0;34m(per_mer_ratio, n_runs, min_per, max_per)\u001b[0m\n\u001b[1;32m      <a href='vscode-notebook-cell:/home/pderks/Documents/phd/FaultTolerantQPU/numerics/simulation_scripts/rotated_sc_phenomenological.ipynb#ch0000003?line=3'>4</a>\u001b[0m per_array \u001b[39m=\u001b[39m np\u001b[39m.\u001b[39mlinspace(min_per,max_per, \u001b[39m10\u001b[39m)\u001b[39m#np.hstack((per_array_1,per_array_2))\u001b[39;00m\n\u001b[1;32m      <a href='vscode-notebook-cell:/home/pderks/Documents/phd/FaultTolerantQPU/numerics/simulation_scripts/rotated_sc_phenomenological.ipynb#ch0000003?line=4'>5</a>\u001b[0m mer_array \u001b[39m=\u001b[39m per_mer_ratio\u001b[39m*\u001b[39mper_array\n\u001b[0;32m----> <a href='vscode-notebook-cell:/home/pderks/Documents/phd/FaultTolerantQPU/numerics/simulation_scripts/rotated_sc_phenomenological.ipynb#ch0000003?line=5'>6</a>\u001b[0m ler_dict \u001b[39m=\u001b[39m calculate_ler_array(per_array,mer_array,  np\u001b[39m.\u001b[39;49marange(\u001b[39m5\u001b[39;49m, \u001b[39m12\u001b[39;49m, \u001b[39m2\u001b[39;49m), n_runs)\n\u001b[1;32m      <a href='vscode-notebook-cell:/home/pderks/Documents/phd/FaultTolerantQPU/numerics/simulation_scripts/rotated_sc_phenomenological.ipynb#ch0000003?line=6'>7</a>\u001b[0m \u001b[39mreturn\u001b[39;00m(ler_dict)\n",
      "\u001b[1;32m/home/pderks/Documents/phd/FaultTolerantQPU/numerics/simulation_scripts/rotated_sc_phenomenological.ipynb Cell 2'\u001b[0m in \u001b[0;36mcalculate_ler_array\u001b[0;34m(per_array, mer_array, distance_array, n_runs)\u001b[0m\n\u001b[1;32m      <a href='vscode-notebook-cell:/home/pderks/Documents/phd/FaultTolerantQPU/numerics/simulation_scripts/rotated_sc_phenomenological.ipynb#ch0000001?line=8'>9</a>\u001b[0m     ler_dict[d] \u001b[39m=\u001b[39m \u001b[39mdict\u001b[39m()\n\u001b[1;32m     <a href='vscode-notebook-cell:/home/pderks/Documents/phd/FaultTolerantQPU/numerics/simulation_scripts/rotated_sc_phenomenological.ipynb#ch0000001?line=9'>10</a>\u001b[0m     \u001b[39mfor\u001b[39;00m index, per \u001b[39min\u001b[39;00m \u001b[39menumerate\u001b[39m(per_array):\n\u001b[0;32m---> <a href='vscode-notebook-cell:/home/pderks/Documents/phd/FaultTolerantQPU/numerics/simulation_scripts/rotated_sc_phenomenological.ipynb#ch0000001?line=10'>11</a>\u001b[0m         ler_dict[d][per] \u001b[39m=\u001b[39m calculate_ler(per, mer_array[index], d,n_runs)\n\u001b[1;32m     <a href='vscode-notebook-cell:/home/pderks/Documents/phd/FaultTolerantQPU/numerics/simulation_scripts/rotated_sc_phenomenological.ipynb#ch0000001?line=12'>13</a>\u001b[0m \u001b[39mreturn\u001b[39;00m(ler_dict)\n",
      "\u001b[1;32m/home/pderks/Documents/phd/FaultTolerantQPU/numerics/simulation_scripts/rotated_sc_phenomenological.ipynb Cell 2'\u001b[0m in \u001b[0;36mcalculate_ler\u001b[0;34m(per, mer, distance, n_runs)\u001b[0m\n\u001b[1;32m      <a href='vscode-notebook-cell:/home/pderks/Documents/phd/FaultTolerantQPU/numerics/simulation_scripts/rotated_sc_phenomenological.ipynb#ch0000001?line=1'>2</a>\u001b[0m noise_model \u001b[39m=\u001b[39m PhenomenologicalNoise(per, mer)\n\u001b[1;32m      <a href='vscode-notebook-cell:/home/pderks/Documents/phd/FaultTolerantQPU/numerics/simulation_scripts/rotated_sc_phenomenological.ipynb#ch0000001?line=2'>3</a>\u001b[0m exp \u001b[39m=\u001b[39m IdlingExperiment(\u001b[39m'\u001b[39m\u001b[39mRotatedSurfaceCode\u001b[39m\u001b[39m'\u001b[39m, distance, noise_model)\n\u001b[0;32m----> <a href='vscode-notebook-cell:/home/pderks/Documents/phd/FaultTolerantQPU/numerics/simulation_scripts/rotated_sc_phenomenological.ipynb#ch0000001?line=3'>4</a>\u001b[0m \u001b[39mreturn\u001b[39;00m(exp\u001b[39m.\u001b[39;49mcalculate_ler(n_runs))\n",
      "File \u001b[0;32m~/Documents/phd/FaultTolerantQPU/numerics/idling_experiment.py:44\u001b[0m, in \u001b[0;36mIdlingExperiment.calculate_ler\u001b[0;34m(self, n_runs)\u001b[0m\n\u001b[1;32m     <a href='file:///home/pderks/Documents/phd/FaultTolerantQPU/numerics/idling_experiment.py?line=41'>42</a>\u001b[0m detector_parts \u001b[39m=\u001b[39m shots[:, :\u001b[39mself\u001b[39m\u001b[39m.\u001b[39mcircuit\u001b[39m.\u001b[39mnum_detectors]\n\u001b[1;32m     <a href='file:///home/pderks/Documents/phd/FaultTolerantQPU/numerics/idling_experiment.py?line=42'>43</a>\u001b[0m actual_observable_parts \u001b[39m=\u001b[39m shots[:, \u001b[39mself\u001b[39m\u001b[39m.\u001b[39mcircuit\u001b[39m.\u001b[39mnum_detectors:]\n\u001b[0;32m---> <a href='file:///home/pderks/Documents/phd/FaultTolerantQPU/numerics/idling_experiment.py?line=43'>44</a>\u001b[0m predicted_observable_parts \u001b[39m=\u001b[39m \u001b[39mself\u001b[39;49m\u001b[39m.\u001b[39;49mdecoder\u001b[39m.\u001b[39;49mdecode_samples(\n\u001b[1;32m     <a href='file:///home/pderks/Documents/phd/FaultTolerantQPU/numerics/idling_experiment.py?line=44'>45</a>\u001b[0m     detector_parts)\n\u001b[1;32m     <a href='file:///home/pderks/Documents/phd/FaultTolerantQPU/numerics/idling_experiment.py?line=46'>47</a>\u001b[0m num_errors \u001b[39m=\u001b[39m \u001b[39m0\u001b[39m\n\u001b[1;32m     <a href='file:///home/pderks/Documents/phd/FaultTolerantQPU/numerics/idling_experiment.py?line=48'>49</a>\u001b[0m \u001b[39mfor\u001b[39;00m actual, predicted \u001b[39min\u001b[39;00m \u001b[39mzip\u001b[39m(actual_observable_parts, predicted_observable_parts):\n",
      "File \u001b[0;32m~/Documents/phd/FaultTolerantQPU/main/decoding/PymatchingDecoder.py:140\u001b[0m, in \u001b[0;36mPymatchingDecoder.decode_samples\u001b[0;34m(self, samples)\u001b[0m\n\u001b[1;32m    <a href='file:///home/pderks/Documents/phd/FaultTolerantQPU/main/decoding/PymatchingDecoder.py?line=137'>138</a>\u001b[0m     expanded_det \u001b[39m=\u001b[39m np\u001b[39m.\u001b[39mresize(samples[k], num_dets \u001b[39m+\u001b[39m \u001b[39m1\u001b[39m)\n\u001b[1;32m    <a href='file:///home/pderks/Documents/phd/FaultTolerantQPU/main/decoding/PymatchingDecoder.py?line=138'>139</a>\u001b[0m     expanded_det[\u001b[39m-\u001b[39m\u001b[39m1\u001b[39m] \u001b[39m=\u001b[39m \u001b[39m0\u001b[39m\n\u001b[0;32m--> <a href='file:///home/pderks/Documents/phd/FaultTolerantQPU/main/decoding/PymatchingDecoder.py?line=139'>140</a>\u001b[0m     predictions[k] \u001b[39m=\u001b[39m \u001b[39mself\u001b[39;49m\u001b[39m.\u001b[39;49mmatcher\u001b[39m.\u001b[39;49mdecode(\n\u001b[1;32m    <a href='file:///home/pderks/Documents/phd/FaultTolerantQPU/main/decoding/PymatchingDecoder.py?line=140'>141</a>\u001b[0m         expanded_det, num_neighbours\u001b[39m=\u001b[39;49m\u001b[39m20\u001b[39;49m, )\n\u001b[1;32m    <a href='file:///home/pderks/Documents/phd/FaultTolerantQPU/main/decoding/PymatchingDecoder.py?line=142'>143</a>\u001b[0m \u001b[39mreturn\u001b[39;00m predictions\n",
      "File \u001b[0;32m~/anaconda3/envs/FTQPU_env/lib/python3.10/site-packages/pymatching/matching.py:683\u001b[0m, in \u001b[0;36mMatching.decode\u001b[0;34m(self, z, num_neighbours, return_weight)\u001b[0m\n\u001b[1;32m    <a href='file:///home/pderks/anaconda3/envs/FTQPU_env/lib/python3.10/site-packages/pymatching/matching.py?line=680'>681</a>\u001b[0m     res \u001b[39m=\u001b[39m exact_matching(\u001b[39mself\u001b[39m\u001b[39m.\u001b[39mmatching_graph, defects, return_weight)\n\u001b[1;32m    <a href='file:///home/pderks/anaconda3/envs/FTQPU_env/lib/python3.10/site-packages/pymatching/matching.py?line=681'>682</a>\u001b[0m \u001b[39melse\u001b[39;00m:\n\u001b[0;32m--> <a href='file:///home/pderks/anaconda3/envs/FTQPU_env/lib/python3.10/site-packages/pymatching/matching.py?line=682'>683</a>\u001b[0m     res \u001b[39m=\u001b[39m local_matching(\u001b[39mself\u001b[39;49m\u001b[39m.\u001b[39;49mmatching_graph, defects, num_neighbours, return_weight)\n\u001b[1;32m    <a href='file:///home/pderks/anaconda3/envs/FTQPU_env/lib/python3.10/site-packages/pymatching/matching.py?line=683'>684</a>\u001b[0m \u001b[39mif\u001b[39;00m return_weight:\n\u001b[1;32m    <a href='file:///home/pderks/anaconda3/envs/FTQPU_env/lib/python3.10/site-packages/pymatching/matching.py?line=684'>685</a>\u001b[0m     \u001b[39mreturn\u001b[39;00m res\u001b[39m.\u001b[39mcorrection, res\u001b[39m.\u001b[39mweight\n",
      "\u001b[0;31mKeyboardInterrupt\u001b[0m: "
     ]
    }
   ],
   "source": [
    "n_runs=5000\n",
    "for ratio in np.arange(4,7):\n",
    "    ler_dict[ratio] = calculate_threshold(ratio, n_runs, 0.005, 0.03)\n",
    "    thresholds[ratio] = (get_threshold(ler_dict[ratio]))\n"
   ]
  },
  {
   "cell_type": "code",
   "execution_count": null,
   "metadata": {},
   "outputs": [],
   "source": [
    "ratios = thresholds.keys()\n",
    "ler = thresholds.values()\n"
   ]
  },
  {
   "cell_type": "code",
   "execution_count": null,
   "metadata": {},
   "outputs": [
    {
     "data": {
      "text/plain": [
       "Text(0, 0.5, 'threshold (data qubit error rate)')"
      ]
     },
     "execution_count": 293,
     "metadata": {},
     "output_type": "execute_result"
    },
    {
     "data": {
      "image/png": "[encoded data removed]",
      "text/plain": [
       "<Figure size 432x288 with 1 Axes>"
      ]
     },
     "metadata": {
      "needs_background": "light"
     },
     "output_type": "display_data"
    }
   ],
   "source": [
    "plt.plot(ratios, ler)\n",
    "plt.xlabel('measurement error rate / data qubit error rate')\n",
    "plt.ylabel('threshold (data qubit error rate)')"
   ]
  },
  {
   "cell_type": "code",
   "execution_count": null,
   "metadata": {},
   "outputs": [
    {
     "ename": "KeyError",
     "evalue": "1",
     "output_type": "error",
     "traceback": [
      "\u001b[0;31m---------------------------------------------------------------------------\u001b[0m",
      "\u001b[0;31mKeyError\u001b[0m                                  Traceback (most recent call last)",
      "\u001b[1;32m/home/pderks/Documents/phd/FaultTolerantQPU/numerics/simulation_scripts/rotated_sc_phenomenological.ipynb Cell 15'\u001b[0m in \u001b[0;36m<cell line: 1>\u001b[0;34m()\u001b[0m\n\u001b[0;32m----> <a href='vscode-notebook-cell:/home/pderks/Documents/phd/FaultTolerantQPU/numerics/simulation_scripts/rotated_sc_phenomenological.ipynb#ch0000019?line=0'>1</a>\u001b[0m plot_ler(ler_dict[\u001b[39m1\u001b[39;49m])\n",
      "\u001b[0;31mKeyError\u001b[0m: 1"
     ]
    }
   ],
   "source": [
    "print(ler_dict)\n",
    "#plot_ler(ler_dict)\n"
   ]
  },
  {
   "cell_type": "code",
   "execution_count": 316,
   "metadata": {},
   "outputs": [
    {
     "data": {
      "image/png": "[encoded data removed]",
      "text/plain": [
       "<Figure size 432x288 with 1 Axes>"
      ]
     },
     "metadata": {
      "needs_background": "light"
     },
     "output_type": "display_data"
    }
   ],
   "source": [
    "plot_ler(ler_dict[1])"
   ]
  },
  {
   "cell_type": "code",
   "execution_count": null,
   "metadata": {},
   "outputs": [],
   "source": []
  }
 ],
 "metadata": {
  "interpreter": {
   "hash": "3bfe578c87f9e87a1aba4f9877784a22ddfc8c8f026e1929e65df748f8538267"
  },
  "kernelspec": {
   "display_name": "Python 3.10.2 ('FTQPU_env')",
   "language": "python",
   "name": "python3"
  },
  "language_info": {
   "codemirror_mode": {
    "name": "ipython",
    "version": 3
   },
   "file_extension": ".py",
   "mimetype": "text/x-python",
   "name": "python",
   "nbconvert_exporter": "python",
   "pygments_lexer": "ipython3",
   "version": "3.10.2"
  },
  "orig_nbformat": 4
 },
 "nbformat": 4,
 "nbformat_minor": 2
}
