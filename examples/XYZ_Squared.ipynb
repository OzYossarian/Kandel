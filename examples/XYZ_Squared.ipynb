{
 "cells": [
  {
   "cell_type": "code",
   "execution_count": 1,
   "metadata": {},
   "outputs": [],
   "source": [
    "from datetime import datetime\n",
    "from pathlib import Path\n",
    "from typing import List, Tuple\n",
    "\n",
    "import sinter\n",
    "from matplotlib import pyplot as plt\n",
    "\n",
    "from main.Colour import Blue, Red, Green\n",
    "from main.building_blocks.Check import Check\n",
    "from main.building_blocks.detectors.Stabilizer import Stabilizer\n",
    "from main.building_blocks.logical.LogicalOperator import LogicalOperator\n",
    "from main.building_blocks.logical.LogicalQubit import LogicalQubit\n",
    "from main.building_blocks.pauli import Pauli\n",
    "from main.building_blocks.pauli.PauliLetter import PauliZ, PauliY, PauliX\n",
    "from main.codes.hexagonal.ToricHexagonalCode import ToricHexagonalCode\n",
    "from main.codes.hexagonal.ToricXyzSquaredCode import ToricXyzSquaredCode\n",
    "from main.compiling.compilers.AncillaPerCheckCompiler import AncillaPerCheckCompiler\n",
    "from main.compiling.noise.models import CircuitLevelNoise\n",
    "from main.compiling.syndrome_extraction.controlled_gate_orderers.ToricXyzSquaredOrderer import ToricXyzSquaredOrderer\n",
    "from main.compiling.syndrome_extraction.extractors.SyndromeExtractor import SyndromeExtractor\n",
    "from main.compiling.syndrome_extraction.controlled_gate_orderers.ControlledGateOrderer import ControlledGateOrderer\n",
    "from main.printing.Printer2D import Printer2D\n",
    "from main.utils.utils import tuple_sum, tuple_minus, output_path"
   ]
  },
  {
   "cell_type": "markdown",
   "metadata": {},
   "source": [
    "Build our $(XYZ)^2$ code by subclassing the periodic hexagonal lattice."
   ]
  },
  {
   "cell_type": "code",
   "execution_count": 2,
   "metadata": {
    "pycharm": {
     "name": "#%%\n"
    }
   },
   "outputs": [],
   "source": [
    "class XyzSquaredCode(ToricHexagonalCode):\n",
    "    def __init__(self, distance_x: int, distance_z: int):\n",
    "        assert distance_z % 2 == 0\n",
    "        distance = min([distance_z, distance_x])\n",
    "        assert distance > 1\n",
    "        super().__init__(\n",
    "            rows=distance_x, columns=distance_z, distance=distance)\n",
    "        self.set_schedules([[]])\n",
    "\n",
    "    def is_electric(self, check: Check):\n",
    "        return check.anchor[0]  % 12 == 4\n",
    "\n",
    "    def is_magnetic(self, check: Check):\n",
    "        return check.anchor[0] % 12 == 10\n",
    "\n",
    "distance_x = 3\n",
    "distance_z = 4\n",
    "code = XyzSquaredCode(distance_x, distance_z)"
   ]
  },
  {
   "cell_type": "markdown",
   "metadata": {
    "pycharm": {
     "name": "#%% md\n"
    }
   },
   "source": [
    "We all love a good picture:"
   ]
  },
  {
   "cell_type": "code",
   "execution_count": 3,
   "metadata": {
    "pycharm": {
     "name": "#%%\n"
    }
   },
   "outputs": [
    {
     "data": {
      "image/png": "[encoded data removed]",
      "text/plain": [
       "<PIL.Image.Image image mode=RGB size=440x240 at 0x7F5157509F60>"
      ]
     },
     "execution_count": 3,
     "metadata": {},
     "output_type": "execute_result"
    }
   ],
   "source": [
    "printer = Printer2D()\n",
    "printouts = printer.print_code(code, 'XYZXYZ')\n",
    "printouts[0].image"
   ]
  },
  {
   "cell_type": "markdown",
   "metadata": {},
   "source": [
    "All that's needed to define a code is to specify the 'checks'. A check is just something that's measured - usually a stabilizer, but could be a gauge operator in a subsystem code, or whatever the analogue is in a dynamic code like the honeycomb code."
   ]
  },
  {
   "cell_type": "code",
   "execution_count": 4,
   "metadata": {
    "pycharm": {
     "name": "#%%\n"
    }
   },
   "outputs": [
    {
     "data": {
      "image/png": "[encoded data removed]",
      "text/plain": [
       "<PIL.Image.Image image mode=RGB size=560x320 at 0x7F515750BDC0>"
      ]
     },
     "execution_count": 4,
     "metadata": {},
     "output_type": "execute_result"
    }
   ],
   "source": [
    "# Define the checks.\n",
    "checks = []\n",
    "xyzxyz = [PauliX, PauliY, PauliZ, PauliX, PauliY, PauliZ]\n",
    "\n",
    "for anchor in code.plaquette_anchors:\n",
    "    # On each hexagon, create one weight-6 XYZXYZ check.\n",
    "    corners = code.get_neighbour_coords(anchor)\n",
    "    data_qubits = [\n",
    "        code.data_qubits[code.wrap_coords(corner)]\n",
    "        for corner in corners]\n",
    "    offsets = [tuple_minus(corner, anchor) for corner in corners]\n",
    "    paulis = {\n",
    "        offset: Pauli(qubit, letter)\n",
    "        for offset, qubit, letter in zip(offsets, data_qubits, xyzxyz)}\n",
    "    checks.append(Check(paulis, anchor))\n",
    "\n",
    "    # Also, create one of the weight-2 XX checks connected to this face.\n",
    "    u = corners[0]\n",
    "    v = code.get_neighbour_coords(u)[0]\n",
    "    X_u = Pauli(code.data_qubits[code.wrap_coords(u)], PauliX)\n",
    "    X_v = Pauli(code.data_qubits[code.wrap_coords(v)], PauliX)\n",
    "    midpoint = code.wrap_coords((u[0] + 2, u[1]))\n",
    "    checks.append(Check({(-2, 0): X_u, (2, 0): X_v}, midpoint))\n",
    "\n",
    "code.set_schedules([checks])\n",
    "\n",
    "printouts = printer.print_code(code, 'XYZXYZ_checks')\n",
    "printouts[0].image"
   ]
  },
  {
   "cell_type": "markdown",
   "metadata": {},
   "source": [
    "Pretty! But actually not a helpful colouring. Let's recolour things along electric/magnetic lines, and use a third colour for the little $XX$ checks."
   ]
  },
  {
   "cell_type": "code",
   "execution_count": 5,
   "metadata": {
    "pycharm": {
     "name": "#%%\n"
    }
   },
   "outputs": [
    {
     "data": {
      "image/png": "[encoded data removed]",
      "text/plain": [
       "<PIL.Image.Image image mode=RGB size=560x320 at 0x7F515750A350>"
      ]
     },
     "execution_count": 5,
     "metadata": {},
     "output_type": "execute_result"
    }
   ],
   "source": [
    "for check in code.checks:\n",
    "    if check.weight == 2:\n",
    "        check.colour = Blue\n",
    "    elif code.is_electric(check):\n",
    "        check.colour = Green\n",
    "    else:\n",
    "        check.colour = Red\n",
    "\n",
    "printouts = printer.print_code(code, 'XYZXYZ_recoloured')\n",
    "printouts[0].image"
   ]
  },
  {
   "cell_type": "markdown",
   "metadata": {},
   "source": [
    "Better. Now let's define a logical $\\bar{X}$ operator/observable (pick your favourite term)."
   ]
  },
  {
   "cell_type": "code",
   "execution_count": 6,
   "metadata": {
    "pycharm": {
     "name": "#%%\n"
    }
   },
   "outputs": [
    {
     "data": {
      "image/png": "[encoded data removed]",
      "text/plain": [
       "<PIL.Image.Image image mode=RGB size=560x320 at 0x7F519CA08C40>"
      ]
     },
     "execution_count": 6,
     "metadata": {},
     "output_type": "execute_result"
    }
   ],
   "source": [
    "support = [(8, 4 * i + 2) for i in range(distance_x)]\n",
    "paulis = [Pauli(code.data_qubits[coords], PauliX) for coords in support]\n",
    "logical_x = LogicalOperator(paulis)\n",
    "# Would normally give the logical Z too, but we're being lazy.\n",
    "logical_qubit = LogicalQubit(logical_x, None)\n",
    "code.logical_qubits = [logical_qubit]\n",
    "\n",
    "printouts = printer.print_code(code, 'XYZXYZ_logical')\n",
    "printouts[0].image"
   ]
  },
  {
   "cell_type": "markdown",
   "metadata": {},
   "source": [
    "We've now fully defined the code! Now to think about compiling it to a circuit. First we need to think about what states to initialise the data qubits into, and what to measure at the end. One way to do this is to specify which operators we'd like to specify at the start and end."
   ]
  },
  {
   "cell_type": "code",
   "execution_count": 7,
   "metadata": {
    "pycharm": {
     "name": "#%%\n"
    }
   },
   "outputs": [],
   "source": [
    "initial_stabilizers = []\n",
    "final_stabilizers = []\n",
    "for x in range(4, 12 * distance_z // 2, 12):\n",
    "    for y in range(0, 4 * distance_x, 4):\n",
    "        # Take each electric XX check...\n",
    "        xx_check = next(\n",
    "            check for check in code.checks\n",
    "            if check.anchor == (x, y))\n",
    "        # ... and the electric XYZXYZ check above it...\n",
    "        xyzxyz_check = next(\n",
    "            check for check in code.checks if\n",
    "            check.anchor == (x, y + 2))\n",
    "        # ... and combine them into a stabilizer. One for the start...\n",
    "        timed_checks = [(0, xx_check), (0, xyzxyz_check)]\n",
    "        initial_stabilizers.append(Stabilizer(timed_checks, 0, (x, y + 2, 0)))\n",
    "        # ... and one for the end.\n",
    "        timed_checks = [(-1, xx_check), (-1, xyzxyz_check)]\n",
    "        final_stabilizers.append(Stabilizer(timed_checks, 0, (x, y + 2, 0)))\n",
    "\n",
    "# Now do the magnetic XX stabilizers\n",
    "for x in range(10, 12 * distance_z // 2, 12):\n",
    "    for y in range(2, 4 * distance_x, 4):\n",
    "        xx_check = next(\n",
    "            check for check in code.checks\n",
    "            if check.anchor == (x, y))\n",
    "        initial_stabilizers.append(Stabilizer([(0, xx_check)], 0, (x, y, 0)))\n",
    "        final_stabilizers.append(Stabilizer([(-1, xx_check)], 0, (x, y, 0)))"
   ]
  },
  {
   "cell_type": "markdown",
   "metadata": {
    "pycharm": {
     "name": "#%% md\n"
    }
   },
   "source": [
    "To compile this, we must specify how to extract the syndromes. We'll use a single ancilla qubit per ancilla, and specify a CNOT ordering between the ancilla and the data qubits."
   ]
  },
  {
   "cell_type": "code",
   "execution_count": 11,
   "metadata": {
    "pycharm": {
     "name": "#%%\n"
    }
   },
   "outputs": [],
   "source": [
    "class XyzSquaredOrderer(ControlledGateOrderer):\n",
    "    def __init__(self):\n",
    "        super().__init__()\n",
    "        self.xx_order = {\n",
    "            (2, 0): 1,\n",
    "            (-2, 0): 4}\n",
    "        self.xyzxyz_order = {\n",
    "            (4, 0): 1,\n",
    "            (2, 2): 3,\n",
    "            (-2, 2): 5,\n",
    "            (-4, 0): 4,\n",
    "            (-2, -2): 2,\n",
    "            (2, -2): 0}\n",
    "\n",
    "    def order(self, check: Check) -> List[Pauli | None]:\n",
    "        paulis = [None for _ in range(6)]\n",
    "        ordering = self.xx_order if check.weight == 2 else self.xyzxyz_order\n",
    "        for offset, pauli in check.paulis.items():\n",
    "            order = ordering[offset]\n",
    "            paulis[order] = pauli\n",
    "        return paulis"
   ]
  },
  {
   "cell_type": "markdown",
   "metadata": {},
   "source": [
    "Now we can combine this with a noise model to get a compiler. We'll choose circuit-level noise."
   ]
  },
  {
   "cell_type": "code",
   "execution_count": 9,
   "metadata": {
    "pycharm": {
     "name": "#%%\n"
    }
   },
   "outputs": [],
   "source": [
    "syndrome_extractor = SyndromeExtractor(XyzSquaredOrderer())\n",
    "noise_model = CircuitLevelNoise(0.01, 0.02, 0.03, 0.04, 0.05)\n",
    "compiler = AncillaPerCheckCompiler(noise_model, syndrome_extractor)"
   ]
  },
  {
   "cell_type": "markdown",
   "metadata": {},
   "source": [
    " Done! Now we can use this compiler to run a memory experiment simulation. First, compile to a Stim circuit."
   ]
  },
  {
   "cell_type": "code",
   "execution_count": 1,
   "metadata": {
    "pycharm": {
     "name": "#%%\n"
    }
   },
   "outputs": [
    {
     "ename": "NameError",
     "evalue": "name 'compiler' is not defined",
     "output_type": "error",
     "traceback": [
      "\u001b[0;31m---------------------------------------------------------------------------\u001b[0m",
      "\u001b[0;31mNameError\u001b[0m                                 Traceback (most recent call last)",
      "\u001b[1;32m/home/pderks/Documents/phd/FaultTolerantQPU/examples/XYZ_Squared.ipynb Cell 19\u001b[0m in \u001b[0;36m<cell line: 1>\u001b[0;34m()\u001b[0m\n\u001b[0;32m----> <a href='vscode-notebook-cell:/home/pderks/Documents/phd/FaultTolerantQPU/examples/XYZ_Squared.ipynb#ch0000018?line=0'>1</a>\u001b[0m circuit \u001b[39m=\u001b[39m compiler\u001b[39m.\u001b[39mcompile_code(\n\u001b[1;32m      <a href='vscode-notebook-cell:/home/pderks/Documents/phd/FaultTolerantQPU/examples/XYZ_Squared.ipynb#ch0000018?line=1'>2</a>\u001b[0m     code, code\u001b[39m.\u001b[39mdistance,\n\u001b[1;32m      <a href='vscode-notebook-cell:/home/pderks/Documents/phd/FaultTolerantQPU/examples/XYZ_Squared.ipynb#ch0000018?line=2'>3</a>\u001b[0m     initial_stabilizers\u001b[39m=\u001b[39minitial_stabilizers,\n\u001b[1;32m      <a href='vscode-notebook-cell:/home/pderks/Documents/phd/FaultTolerantQPU/examples/XYZ_Squared.ipynb#ch0000018?line=3'>4</a>\u001b[0m     final_stabilizers\u001b[39m=\u001b[39mfinal_stabilizers,\n\u001b[1;32m      <a href='vscode-notebook-cell:/home/pderks/Documents/phd/FaultTolerantQPU/examples/XYZ_Squared.ipynb#ch0000018?line=4'>5</a>\u001b[0m     logical_observables\u001b[39m=\u001b[39m[code\u001b[39m.\u001b[39mlogical_qubits[\u001b[39m0\u001b[39m]\u001b[39m.\u001b[39mx])\n\u001b[1;32m      <a href='vscode-notebook-cell:/home/pderks/Documents/phd/FaultTolerantQPU/examples/XYZ_Squared.ipynb#ch0000018?line=5'>6</a>\u001b[0m \u001b[39mprint\u001b[39m(circuit)\n",
      "\u001b[0;31mNameError\u001b[0m: name 'compiler' is not defined"
     ]
    }
   ],
   "source": [
    "circuit = compiler.compile_code(\n",
    "    code, code.distance,\n",
    "    initial_stabilizers=initial_stabilizers,\n",
    "    final_stabilizers=final_stabilizers,\n",
    "    logical_observables=[code.logical_qubits[0].x])\n",
    "print(circuit)"
   ]
  },
  {
   "cell_type": "markdown",
   "metadata": {
    "pycharm": {
     "name": "#%% md\n"
    }
   },
   "source": [
    "To decode our circuit, need to write a decoder. Didn't have time to do this before this demo! Fortunately, it turns out that for small $(XYZ)^2$ codes, Stim can figure out a way to just use matching. So we can at least show the breakeven point for a specific small code under this decoder."
   ]
  },
  {
   "cell_type": "code",
   "execution_count": null,
   "metadata": {
    "pycharm": {
     "name": "#%%\n"
    }
   },
   "outputs": [],
   "source": [
    "noise_parameters = [0.0001 * i + 0.0001 for i in range(10)]\n",
    "\n",
    "def xyz_squared_tasks():\n",
    "    tasks = []\n",
    "    syndrome_extractor = SyndromeExtractor(ToricXyzSquaredOrderer())\n",
    "    distances = [(3, 4, 3)]\n",
    "    for noise_parameter in noise_parameters:\n",
    "        print(f'Circuit-level noise parameter: {noise_parameter}')\n",
    "        for distance in distances:\n",
    "            print(f'Distance: {distance}')\n",
    "            tasks.append(xyz_squared_task(\n",
    "                distance, noise_parameter, syndrome_extractor))\n",
    "    return tasks\n",
    "\n",
    "\n",
    "def xyz_squared_task(\n",
    "        distance: Tuple[int, int, int], noise_model_parameter: float,\n",
    "        syndrome_extractor: SyndromeExtractor):\n",
    "    p = noise_model_parameter\n",
    "    noise_model = CircuitLevelNoise(p, p, p, p, p)\n",
    "    compiler = AncillaPerCheckCompiler(noise_model, syndrome_extractor)\n",
    "\n",
    "    distance_x, distance_z, layers = distance\n",
    "    code = ToricXyzSquaredCode(distance_x, distance_z)\n",
    "    initial_stabilizers, final_stabilizers = code.get_plus_plus_stabilizers()\n",
    "    circuit = compiler.compile_code(\n",
    "        code,\n",
    "        layers,\n",
    "        initial_stabilizers=initial_stabilizers,\n",
    "        final_stabilizers=final_stabilizers,\n",
    "        logical_observables=[code.logical_qubits[0].x])\n",
    "    return sinter.Task(\n",
    "        circuit=circuit,\n",
    "        json_metadata={\n",
    "            'distance': distance,\n",
    "            'p': noise_model_parameter})"
   ]
  },
  {
   "cell_type": "markdown",
   "metadata": {
    "pycharm": {
     "name": "#%% md\n"
    }
   },
   "source": [
    "Now wait while Sinter works its magic..."
   ]
  },
  {
   "cell_type": "code",
   "execution_count": null,
   "metadata": {
    "pycharm": {
     "name": "#%%\n"
    }
   },
   "outputs": [
    {
     "name": "stdout",
     "output_type": "stream",
     "text": [
      "Circuit-level noise parameter: 0.0001\n",
      "Distance: (3, 4, 3)\n",
      "|████████████████████████████████████████✗︎ (!) 99/96 [103%] in 0.6s (167.50/s)                                          0s) \n",
      "Circuit-level noise parameter: 0.0002\n",
      "Distance: (3, 4, 3)\n",
      "|████████████████████████████████████████✗︎ (!) 99/96 [103%] in 0.6s (179.79/s)                                          \n",
      "Circuit-level noise parameter: 0.00030000000000000003\n",
      "Distance: (3, 4, 3)\n",
      "|████████████████████████████████████████✗︎ (!) 99/96 [103%] in 0.6s (171.24/s)                                          \n",
      "Circuit-level noise parameter: 0.0004\n",
      "Distance: (3, 4, 3)\n",
      "|████████████████████████████████████████✗︎ (!) 99/96 [103%] in 0.6s (163.85/s)                                          \n",
      "Circuit-level noise parameter: 0.0005\n",
      "Distance: (3, 4, 3)\n",
      "|████████████████████████████████████████✗︎ (!) 99/96 [103%] in 0.6s (172.15/s)                                           0s) \n",
      "Circuit-level noise parameter: 0.0006000000000000001\n",
      "Distance: (3, 4, 3)\n",
      "|████████████████████████████████████████✗︎ (!) 99/96 [103%] in 0.6s (168.36/s)                                          0s) \n",
      "Circuit-level noise parameter: 0.0007000000000000001\n",
      "Distance: (3, 4, 3)\n",
      "|████████████████████████████████████████✗︎ (!) 99/96 [103%] in 0.6s (172.04/s)                                          \n",
      "Circuit-level noise parameter: 0.0008\n",
      "Distance: (3, 4, 3)\n",
      "|████████████████████████████████████████✗︎ (!) 99/96 [103%] in 0.5s (184.55/s)                                          \n",
      "Circuit-level noise parameter: 0.0009000000000000001\n",
      "Distance: (3, 4, 3)\n",
      "|████████████████████████████████████████✗︎ (!) 99/96 [103%] in 0.6s (173.44/s)                                           0s)  ▄▆█ 74/96 [77%] in 0s (187.0/s, eta: 0s) \n",
      "Circuit-level noise parameter: 0.001\n",
      "Distance: (3, 4, 3)\n",
      "|████████████████████████████████████████✗︎ (!) 99/96 [103%] in 0.6s (177.55/s)                                          \n"
     ]
    },
    {
     "name": "stderr",
     "output_type": "stream",
     "text": [
      "\u001b[31mStarting workers...\u001b[0m\n",
      "\u001b[31m10 cases left\n",
      "    case: processes=5  ~core_mins_left=2       shots_left=497800   errors_left=100     {'distance': (3, 4, 3), 'p': 0.0001}\n",
      "    case: processes=2  ~core_mins_left=1       shots_left=498800   errors_left=99      {'distance': (3, 4, 3), 'p': 0.0002}\n",
      "    case: processes=1  ~core_mins_left=7       shots_left=499500   errors_left=100     {'distance': (3, 4, 3), 'p': 0.00030000000000000003}\n",
      "    case: processes=0  ~core_mins_left=10      shots_left=499700   errors_left=100     {'distance': (3, 4, 3), 'p': 0.0004}\n",
      "    case: processes=0  ~core_mins_left=8       shots_left=499700   errors_left=100     {'distance': (3, 4, 3), 'p': 0.0005}\n",
      "    case: processes=0  ~core_mins_left=29      shots_left=499900   errors_left=100     {'distance': (3, 4, 3), 'p': 0.0006000000000000001}\n",
      "    case: processes=0  ~core_mins_left=1       shots_left=499900   errors_left=99      {'distance': (3, 4, 3), 'p': 0.0007000000000000001}\n",
      "    case: processes=0  ~core_mins_left=1       shots_left=499900   errors_left=99      {'distance': (3, 4, 3), 'p': 0.0008}\u001b[0m\n",
      "\u001b[31m10 cases left\n",
      "    case: processes=5  ~core_mins_left=1       shots_left=471200   errors_left=100     {'distance': (3, 4, 3), 'p': 0.0001}\n",
      "    case: processes=3  ~core_mins_left=1       shots_left=478400   errors_left=97      {'distance': (3, 4, 3), 'p': 0.0002}\n",
      "    case: processes=0  ~core_mins_left=3       shots_left=498500   errors_left=100     {'distance': (3, 4, 3), 'p': 0.00030000000000000003}\n",
      "    case: processes=0  ~core_mins_left=10      shots_left=499700   errors_left=100     {'distance': (3, 4, 3), 'p': 0.0004}\n",
      "    case: processes=0  ~core_mins_left=8       shots_left=499700   errors_left=100     {'distance': (3, 4, 3), 'p': 0.0005}\n",
      "    case: processes=0  ~core_mins_left=29      shots_left=499900   errors_left=100     {'distance': (3, 4, 3), 'p': 0.0006000000000000001}\n",
      "    case: processes=0  ~core_mins_left=1       shots_left=499900   errors_left=99      {'distance': (3, 4, 3), 'p': 0.0007000000000000001}\n",
      "    case: processes=0  ~core_mins_left=1       shots_left=499900   errors_left=99      {'distance': (3, 4, 3), 'p': 0.0008}\u001b[0m\n",
      "\u001b[31m10 cases left\n",
      "    case: processes=6  ~core_mins_left=1       shots_left=406400   errors_left=97      {'distance': (3, 4, 3), 'p': 0.0001}\n",
      "    case: processes=2  ~core_mins_left=1       shots_left=461600   errors_left=93      {'distance': (3, 4, 3), 'p': 0.0002}\n",
      "    case: processes=0  ~core_mins_left=3       shots_left=498500   errors_left=100     {'distance': (3, 4, 3), 'p': 0.00030000000000000003}\n",
      "    case: processes=0  ~core_mins_left=10      shots_left=499700   errors_left=100     {'distance': (3, 4, 3), 'p': 0.0004}\n",
      "    case: processes=0  ~core_mins_left=8       shots_left=499700   errors_left=100     {'distance': (3, 4, 3), 'p': 0.0005}\n",
      "    case: processes=0  ~core_mins_left=29      shots_left=499900   errors_left=100     {'distance': (3, 4, 3), 'p': 0.0006000000000000001}\n",
      "    case: processes=0  ~core_mins_left=1       shots_left=499900   errors_left=99      {'distance': (3, 4, 3), 'p': 0.0007000000000000001}\n",
      "    case: processes=0  ~core_mins_left=1       shots_left=499900   errors_left=99      {'distance': (3, 4, 3), 'p': 0.0008}\u001b[0m\n",
      "\u001b[31m10 cases left\n",
      "    case: processes=4  ~core_mins_left=1       shots_left=364000   errors_left=95      {'distance': (3, 4, 3), 'p': 0.0001}\n",
      "    case: processes=4  ~core_mins_left=1       shots_left=432800   errors_left=91      {'distance': (3, 4, 3), 'p': 0.0002}\n",
      "    case: processes=0  ~core_mins_left=3       shots_left=498500   errors_left=100     {'distance': (3, 4, 3), 'p': 0.00030000000000000003}\n",
      "    case: processes=0  ~core_mins_left=10      shots_left=499700   errors_left=100     {'distance': (3, 4, 3), 'p': 0.0004}\n",
      "    case: processes=0  ~core_mins_left=8       shots_left=499700   errors_left=100     {'distance': (3, 4, 3), 'p': 0.0005}\n",
      "    case: processes=0  ~core_mins_left=29      shots_left=499900   errors_left=100     {'distance': (3, 4, 3), 'p': 0.0006000000000000001}\n",
      "    case: processes=0  ~core_mins_left=1       shots_left=499900   errors_left=99      {'distance': (3, 4, 3), 'p': 0.0007000000000000001}\n",
      "    case: processes=0  ~core_mins_left=1       shots_left=499900   errors_left=99      {'distance': (3, 4, 3), 'p': 0.0008}\u001b[0m\n",
      "\u001b[31m10 cases left\n",
      "    case: processes=3  ~core_mins_left=1       shots_left=320800   errors_left=90      {'distance': (3, 4, 3), 'p': 0.0001}\n",
      "    case: processes=5  ~core_mins_left=1       shots_left=389600   errors_left=85      {'distance': (3, 4, 3), 'p': 0.0002}\n",
      "    case: processes=0  ~core_mins_left=3       shots_left=498500   errors_left=100     {'distance': (3, 4, 3), 'p': 0.00030000000000000003}\n",
      "    case: processes=0  ~core_mins_left=10      shots_left=499700   errors_left=100     {'distance': (3, 4, 3), 'p': 0.0004}\n",
      "    case: processes=0  ~core_mins_left=8       shots_left=499700   errors_left=100     {'distance': (3, 4, 3), 'p': 0.0005}\n",
      "    case: processes=0  ~core_mins_left=29      shots_left=499900   errors_left=100     {'distance': (3, 4, 3), 'p': 0.0006000000000000001}\n",
      "    case: processes=0  ~core_mins_left=1       shots_left=499900   errors_left=99      {'distance': (3, 4, 3), 'p': 0.0007000000000000001}\n",
      "    case: processes=0  ~core_mins_left=1       shots_left=499900   errors_left=99      {'distance': (3, 4, 3), 'p': 0.0008}\u001b[0m\n",
      "\u001b[31m10 cases left\n",
      "    case: processes=3  ~core_mins_left=1       shots_left=320800   errors_left=90      {'distance': (3, 4, 3), 'p': 0.0001}\n",
      "    case: processes=4  ~core_mins_left=1       shots_left=346400   errors_left=79      {'distance': (3, 4, 3), 'p': 0.0002}\n",
      "    case: processes=1  ~core_mins_left=3       shots_left=498500   errors_left=100     {'distance': (3, 4, 3), 'p': 0.00030000000000000003}\n",
      "    case: processes=0  ~core_mins_left=10      shots_left=499700   errors_left=100     {'distance': (3, 4, 3), 'p': 0.0004}\n",
      "    case: processes=0  ~core_mins_left=8       shots_left=499700   errors_left=100     {'distance': (3, 4, 3), 'p': 0.0005}\n",
      "    case: processes=0  ~core_mins_left=29      shots_left=499900   errors_left=100     {'distance': (3, 4, 3), 'p': 0.0006000000000000001}\n",
      "    case: processes=0  ~core_mins_left=1       shots_left=499900   errors_left=99      {'distance': (3, 4, 3), 'p': 0.0007000000000000001}\n",
      "    case: processes=0  ~core_mins_left=1       shots_left=499900   errors_left=99      {'distance': (3, 4, 3), 'p': 0.0008}\u001b[0m\n",
      "\u001b[31m10 cases left\n",
      "    case: processes=2  ~core_mins_left=1       shots_left=234400   errors_left=86      {'distance': (3, 4, 3), 'p': 0.0001}\n",
      "    case: processes=3  ~core_mins_left=1       shots_left=308000   errors_left=72      {'distance': (3, 4, 3), 'p': 0.0002}\n",
      "    case: processes=3  ~core_mins_left=1       shots_left=492500   errors_left=98      {'distance': (3, 4, 3), 'p': 0.00030000000000000003}\n",
      "    case: processes=0  ~core_mins_left=10      shots_left=499700   errors_left=100     {'distance': (3, 4, 3), 'p': 0.0004}\n",
      "    case: processes=0  ~core_mins_left=8       shots_left=499700   errors_left=100     {'distance': (3, 4, 3), 'p': 0.0005}\n",
      "    case: processes=0  ~core_mins_left=29      shots_left=499900   errors_left=100     {'distance': (3, 4, 3), 'p': 0.0006000000000000001}\n",
      "    case: processes=0  ~core_mins_left=1       shots_left=499900   errors_left=99      {'distance': (3, 4, 3), 'p': 0.0007000000000000001}\n",
      "    case: processes=0  ~core_mins_left=1       shots_left=499900   errors_left=99      {'distance': (3, 4, 3), 'p': 0.0008}\u001b[0m\n",
      "\u001b[31m10 cases left\n",
      "    case: processes=2  ~core_mins_left=1       shots_left=234400   errors_left=86      {'distance': (3, 4, 3), 'p': 0.0001}\n",
      "    case: processes=3  ~core_mins_left=1       shots_left=308000   errors_left=72      {'distance': (3, 4, 3), 'p': 0.0002}\n",
      "    case: processes=3  ~core_mins_left=1       shots_left=459500   errors_left=83      {'distance': (3, 4, 3), 'p': 0.00030000000000000003}\n",
      "    case: processes=0  ~core_mins_left=10      shots_left=499700   errors_left=100     {'distance': (3, 4, 3), 'p': 0.0004}\n",
      "    case: processes=0  ~core_mins_left=8       shots_left=499700   errors_left=100     {'distance': (3, 4, 3), 'p': 0.0005}\n",
      "    case: processes=0  ~core_mins_left=29      shots_left=499900   errors_left=100     {'distance': (3, 4, 3), 'p': 0.0006000000000000001}\n",
      "    case: processes=0  ~core_mins_left=1       shots_left=499900   errors_left=99      {'distance': (3, 4, 3), 'p': 0.0007000000000000001}\n",
      "    case: processes=0  ~core_mins_left=1       shots_left=499900   errors_left=99      {'distance': (3, 4, 3), 'p': 0.0008}\u001b[0m\n"
     ]
    },
    {
     "name": "stderr",
     "output_type": "stream",
     "text": [
      "\u001b[31m10 cases left\n",
      "    case: processes=1  ~core_mins_left=1       shots_left=132800   errors_left=83      {'distance': (3, 4, 3), 'p': 0.0001}\n",
      "    case: processes=2  ~core_mins_left=1       shots_left=231200   errors_left=63      {'distance': (3, 4, 3), 'p': 0.0002}\n",
      "    case: processes=4  ~core_mins_left=1       shots_left=459500   errors_left=83      {'distance': (3, 4, 3), 'p': 0.00030000000000000003}\n",
      "    case: processes=1  ~core_mins_left=2       shots_left=497300   errors_left=100     {'distance': (3, 4, 3), 'p': 0.0004}\n",
      "    case: processes=0  ~core_mins_left=8       shots_left=499700   errors_left=100     {'distance': (3, 4, 3), 'p': 0.0005}\n",
      "    case: processes=0  ~core_mins_left=29      shots_left=499900   errors_left=100     {'distance': (3, 4, 3), 'p': 0.0006000000000000001}\n",
      "    case: processes=0  ~core_mins_left=1       shots_left=499900   errors_left=99      {'distance': (3, 4, 3), 'p': 0.0007000000000000001}\n",
      "    case: processes=0  ~core_mins_left=1       shots_left=499900   errors_left=99      {'distance': (3, 4, 3), 'p': 0.0008}\u001b[0m\n",
      "\u001b[31m9 cases left\n",
      "    case: processes=2  ~core_mins_left=1       shots_left=231200   errors_left=63      {'distance': (3, 4, 3), 'p': 0.0002}\n",
      "    case: processes=4  ~core_mins_left=1       shots_left=426500   errors_left=76      {'distance': (3, 4, 3), 'p': 0.00030000000000000003}\n",
      "    case: processes=2  ~core_mins_left=1       shots_left=491900   errors_left=97      {'distance': (3, 4, 3), 'p': 0.0004}\n",
      "    case: processes=0  ~core_mins_left=8       shots_left=499700   errors_left=100     {'distance': (3, 4, 3), 'p': 0.0005}\n",
      "    case: processes=0  ~core_mins_left=29      shots_left=499900   errors_left=100     {'distance': (3, 4, 3), 'p': 0.0006000000000000001}\n",
      "    case: processes=0  ~core_mins_left=1       shots_left=499900   errors_left=99      {'distance': (3, 4, 3), 'p': 0.0007000000000000001}\n",
      "    case: processes=0  ~core_mins_left=1       shots_left=499900   errors_left=99      {'distance': (3, 4, 3), 'p': 0.0008}\u001b[0m\n",
      "\u001b[31m9 cases left\n",
      "    case: processes=2  ~core_mins_left=1       shots_left=231200   errors_left=63      {'distance': (3, 4, 3), 'p': 0.0002}\n",
      "    case: processes=3  ~core_mins_left=1       shots_left=400245   errors_left=66      {'distance': (3, 4, 3), 'p': 0.00030000000000000003}\n",
      "    case: processes=3  ~core_mins_left=1       shots_left=475700   errors_left=85      {'distance': (3, 4, 3), 'p': 0.0004}\n",
      "    case: processes=0  ~core_mins_left=8       shots_left=499700   errors_left=100     {'distance': (3, 4, 3), 'p': 0.0005}\n",
      "    case: processes=0  ~core_mins_left=29      shots_left=499900   errors_left=100     {'distance': (3, 4, 3), 'p': 0.0006000000000000001}\n",
      "    case: processes=0  ~core_mins_left=1       shots_left=499900   errors_left=99      {'distance': (3, 4, 3), 'p': 0.0007000000000000001}\n",
      "    case: processes=0  ~core_mins_left=1       shots_left=499900   errors_left=99      {'distance': (3, 4, 3), 'p': 0.0008}\u001b[0m\n",
      "\u001b[31m9 cases left\n",
      "    case: processes=1  ~core_mins_left=1       shots_left=134400   errors_left=52      {'distance': (3, 4, 3), 'p': 0.0002}\n",
      "    case: processes=3  ~core_mins_left=1       shots_left=349245   errors_left=53      {'distance': (3, 4, 3), 'p': 0.00030000000000000003}\n",
      "    case: processes=3  ~core_mins_left=1       shots_left=444463   errors_left=60      {'distance': (3, 4, 3), 'p': 0.0004}\n",
      "    case: processes=1  ~core_mins_left=1       shots_left=497300   errors_left=98      {'distance': (3, 4, 3), 'p': 0.0005}\n",
      "    case: processes=0  ~core_mins_left=29      shots_left=499900   errors_left=100     {'distance': (3, 4, 3), 'p': 0.0006000000000000001}\n",
      "    case: processes=0  ~core_mins_left=1       shots_left=499900   errors_left=99      {'distance': (3, 4, 3), 'p': 0.0007000000000000001}\n",
      "    case: processes=0  ~core_mins_left=1       shots_left=499900   errors_left=99      {'distance': (3, 4, 3), 'p': 0.0008}\u001b[0m\n",
      "\u001b[31m8 cases left\n",
      "    case: processes=3  ~core_mins_left=1       shots_left=349245   errors_left=53      {'distance': (3, 4, 3), 'p': 0.00030000000000000003}\n",
      "    case: processes=3  ~core_mins_left=1       shots_left=434633   errors_left=56      {'distance': (3, 4, 3), 'p': 0.0004}\n",
      "    case: processes=2  ~core_mins_left=1       shots_left=491900   errors_left=96      {'distance': (3, 4, 3), 'p': 0.0005}\n",
      "    case: processes=0  ~core_mins_left=29      shots_left=499900   errors_left=100     {'distance': (3, 4, 3), 'p': 0.0006000000000000001}\n",
      "    case: processes=0  ~core_mins_left=1       shots_left=499900   errors_left=99      {'distance': (3, 4, 3), 'p': 0.0007000000000000001}\n",
      "    case: processes=0  ~core_mins_left=1       shots_left=499900   errors_left=99      {'distance': (3, 4, 3), 'p': 0.0008}\u001b[0m\n",
      "\u001b[31m8 cases left\n",
      "    case: processes=2  ~core_mins_left=1       shots_left=328572   errors_left=44      {'distance': (3, 4, 3), 'p': 0.00030000000000000003}\n",
      "    case: processes=2  ~core_mins_left=1       shots_left=430137   errors_left=51      {'distance': (3, 4, 3), 'p': 0.0004}\n",
      "    case: processes=3  ~core_mins_left=1       shots_left=475700   errors_left=82      {'distance': (3, 4, 3), 'p': 0.0005}\n",
      "    case: processes=1  ~core_mins_left=1       shots_left=497300   errors_left=97      {'distance': (3, 4, 3), 'p': 0.0006000000000000001}\n",
      "    case: processes=0  ~core_mins_left=1       shots_left=499900   errors_left=99      {'distance': (3, 4, 3), 'p': 0.0007000000000000001}\n",
      "    case: processes=0  ~core_mins_left=1       shots_left=499900   errors_left=99      {'distance': (3, 4, 3), 'p': 0.0008}\u001b[0m\n",
      "\u001b[31m8 cases left\n",
      "    case: processes=2  ~core_mins_left=1       shots_left=247572   errors_left=22      {'distance': (3, 4, 3), 'p': 0.00030000000000000003}\n",
      "    case: processes=1  ~core_mins_left=1       shots_left=398980   errors_left=31      {'distance': (3, 4, 3), 'p': 0.0004}\n",
      "    case: processes=3  ~core_mins_left=1       shots_left=451400   errors_left=63      {'distance': (3, 4, 3), 'p': 0.0005}\n",
      "    case: processes=2  ~core_mins_left=1       shots_left=486500   errors_left=80      {'distance': (3, 4, 3), 'p': 0.0006000000000000001}\n",
      "    case: processes=0  ~core_mins_left=1       shots_left=499900   errors_left=99      {'distance': (3, 4, 3), 'p': 0.0007000000000000001}\n",
      "    case: processes=0  ~core_mins_left=1       shots_left=499900   errors_left=99      {'distance': (3, 4, 3), 'p': 0.0008}\u001b[0m\n",
      "\u001b[31m6 cases left\n",
      "    case: processes=2  ~core_mins_left=1       shots_left=443269   errors_left=56      {'distance': (3, 4, 3), 'p': 0.0005}\n",
      "    case: processes=3  ~core_mins_left=1       shots_left=486500   errors_left=80      {'distance': (3, 4, 3), 'p': 0.0006000000000000001}\n",
      "    case: processes=3  ~core_mins_left=1       shots_left=495500   errors_left=88      {'distance': (3, 4, 3), 'p': 0.0007000000000000001}\n",
      "    case: processes=0  ~core_mins_left=1       shots_left=499900   errors_left=99      {'distance': (3, 4, 3), 'p': 0.0008}\u001b[0m\n",
      "\u001b[31m6 cases left\n",
      "    case: processes=2  ~core_mins_left=1       shots_left=443269   errors_left=56      {'distance': (3, 4, 3), 'p': 0.0005}\n",
      "    case: processes=2  ~core_mins_left=1       shots_left=460781   errors_left=38      {'distance': (3, 4, 3), 'p': 0.0006000000000000001}\n",
      "    case: processes=3  ~core_mins_left=1       shots_left=473000   errors_left=36      {'distance': (3, 4, 3), 'p': 0.0007000000000000001}\n",
      "    case: processes=1  ~core_mins_left=1       shots_left=497300   errors_left=88      {'distance': (3, 4, 3), 'p': 0.0008}\u001b[0m\n",
      "\u001b[31m4 cases left\n",
      "    case: processes=1  ~core_mins_left=1       shots_left=416866   errors_left=21      {'distance': (3, 4, 3), 'p': 0.0005}\n",
      "    case: processes=1  ~core_mins_left=1       shots_left=482776   errors_left=30      {'distance': (3, 4, 3), 'p': 0.0008}\n",
      "    case: processes=4  ~core_mins_left=1       shots_left=495700   errors_left=86      {'distance': (3, 4, 3), 'p': 0.0009000000000000001}\n",
      "    case: processes=2  ~core_mins_left=1       shots_left=499500   errors_left=95      {'distance': (3, 4, 3), 'p': 0.001}\u001b[0m\n",
      "\u001b[31m2 cases left\n",
      "    case: processes=1  ~core_mins_left=1       shots_left=482800   errors_left=26      {'distance': (3, 4, 3), 'p': 0.0009000000000000001}\n",
      "    case: processes=1  ~core_mins_left=1       shots_left=484082   errors_left=20      {'distance': (3, 4, 3), 'p': 0.001}\u001b[0m\n"
     ]
    },
    {
     "data": {
      "image/png": "[encoded data removed]",
      "text/plain": [
       "<Figure size 432x288 with 1 Axes>"
      ]
     },
     "metadata": {
      "needs_background": "light"
     },
     "output_type": "display_data"
    },
    {
     "name": "stderr",
     "output_type": "stream",
     "text": [
      "\u001b[31mDone collecting\u001b[0m\n"
     ]
    }
   ],
   "source": [
    "# Collect the samples (takes a few minutes).\n",
    "tasks = xyz_squared_tasks()\n",
    "samples = sinter.collect(\n",
    "    tasks=tasks,\n",
    "    hint_num_tasks=len(tasks),\n",
    "    num_workers=8,\n",
    "    max_shots=500000,\n",
    "    max_errors=100,\n",
    "    decoders=['pymatching'],\n",
    "    print_progress=True\n",
    ")\n",
    "\n",
    "filename = 'XyzSquared'\n",
    "now = datetime.now().strftime('%Y%m%d_%H%M%S')\n",
    "filename = f'{output_path()}/{filename}_{now}'\n",
    "Path(Path(filename).parent).mkdir(parents=True, exist_ok=True)\n",
    "\n",
    "# Render a matplotlib plot of the data.\n",
    "fig, ax = plt.subplots(1, 1)\n",
    "sinter.plot_error_rate(\n",
    "    ax=ax,\n",
    "    stats=samples,\n",
    "    group_func=lambda stat: f\"XYZXYZ, d={stat.json_metadata['distance']}\",\n",
    "    x_func=lambda stat: stat.json_metadata['p'],\n",
    ")\n",
    "ax.plot(noise_parameters, noise_parameters)\n",
    "ax.loglog()\n",
    "ax.set_ylim(1e-5, 1)\n",
    "ax.grid()\n",
    "ax.set_title('Logical Error Rate vs Noisiness')\n",
    "ax.set_ylabel('Logical Error Probability (per shot)')\n",
    "ax.set_xlabel('Circuit-Level Noise Parameter')\n",
    "ax.legend()\n",
    "\n",
    "# Save to file and also open in a window.\n",
    "fig.savefig(f'{filename}.png')\n",
    "plt.show()"
   ]
  },
  {
   "cell_type": "code",
   "execution_count": null,
   "metadata": {
    "pycharm": {
     "name": "#%%\n"
    }
   },
   "outputs": [],
   "source": []
  }
 ],
 "metadata": {
  "kernelspec": {
   "display_name": "Python 3.10.2 ('FTQPU_env')",
   "language": "python",
   "name": "python3"
  },
  "language_info": {
   "codemirror_mode": {
    "name": "ipython",
    "version": 3
   },
   "file_extension": ".py",
   "mimetype": "text/x-python",
   "name": "python",
   "nbconvert_exporter": "python",
   "pygments_lexer": "ipython3",
   "version": "3.10.2"
  },
  "vscode": {
   "interpreter": {
    "hash": "3bfe578c87f9e87a1aba4f9877784a22ddfc8c8f026e1929e65df748f8538267"
   }
  }
 },
 "nbformat": 4,
 "nbformat_minor": 1
}
