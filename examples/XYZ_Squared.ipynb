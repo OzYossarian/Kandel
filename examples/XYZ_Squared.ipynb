{
 "cells": [
  {
   "cell_type": "code",
   "execution_count": 1,
   "metadata": {},
   "outputs": [],
   "source": [
    "from datetime import datetime\n",
    "from pathlib import Path\n",
    "from typing import List, Tuple\n",
    "\n",
    "import sinter\n",
    "from matplotlib import pyplot as plt\n",
    "\n",
    "from main.Colour import Blue, Red, Green\n",
    "from main.building_blocks.Check import Check\n",
    "from main.building_blocks.detectors.Stabilizer import Stabilizer\n",
    "from main.building_blocks.logical.LogicalOperator import LogicalOperator\n",
    "from main.building_blocks.logical.LogicalQubit import LogicalQubit\n",
    "from main.building_blocks.pauli import Pauli\n",
    "from main.building_blocks.pauli.PauliLetter import PauliZ, PauliY, PauliX\n",
    "from main.codes.hexagonal.ToricHexagonalCode import ToricHexagonalCode\n",
    "from main.codes.hexagonal.ToricXyzSquaredCode import ToricXyzSquaredCode\n",
    "from main.compiling.compilers.AncillaPerCheckCompiler import AncillaPerCheckCompiler\n",
    "from main.compiling.noise.models import CircuitLevelNoise\n",
    "from main.compiling.syndrome_extraction.controlled_gate_orderers.ToricXyzSquaredOrderer import ToricXyzSquaredOrderer\n",
    "from main.compiling.syndrome_extraction.extractors.SyndromeExtractor import SyndromeExtractor\n",
    "from main.compiling.syndrome_extraction.controlled_gate_orderers.ControlledGateOrderer import ControlledGateOrderer\n",
    "from main.compiling.syndrome_extraction.extractors.mixed.CxCyCzExtractor import CxCyCzExtractor\n",
    "from main.printing.Printer2D import Printer2D\n",
    "from main.utils.utils import coords_minus, output_path"
   ]
  },
  {
   "cell_type": "markdown",
   "metadata": {},
   "source": [
    "Build our $(XYZ)^2$ code by subclassing the periodic hexagonal lattice."
   ]
  },
  {
   "cell_type": "code",
   "execution_count": 2,
   "metadata": {
    "pycharm": {
     "name": "#%%\n"
    }
   },
   "outputs": [],
   "source": [
    "class XyzSquaredCode(ToricHexagonalCode):\n",
    "    def __init__(self, distance_x: int, distance_z: int):\n",
    "        assert distance_z % 2 == 0\n",
    "        distance = min([distance_z, distance_x])\n",
    "        assert distance > 1\n",
    "        super().__init__(\n",
    "            rows=distance_x, columns=distance_z, distance=distance)\n",
    "        self.set_schedules([[]])\n",
    "\n",
    "    def is_electric(self, check: Check):\n",
    "        return check.anchor[0]  % 12 == 4\n",
    "\n",
    "    def is_magnetic(self, check: Check):\n",
    "        return check.anchor[0] % 12 == 10\n",
    "\n",
    "distance_x = 3\n",
    "distance_z = 4\n",
    "code = XyzSquaredCode(distance_x, distance_z)"
   ]
  },
  {
   "cell_type": "markdown",
   "metadata": {
    "pycharm": {
     "name": "#%% md\n"
    }
   },
   "source": [
    "We all love a good picture:"
   ]
  },
  {
   "cell_type": "code",
   "execution_count": 3,
   "metadata": {
    "pycharm": {
     "name": "#%%\n"
    }
   },
   "outputs": [
    {
     "data": {
      "text/plain": "<PIL.Image.Image image mode=RGB size=440x240 at 0x105D90AF0>",
      "image/png": "[encoded data removed]"
     },
     "execution_count": 3,
     "metadata": {},
     "output_type": "execute_result"
    }
   ],
   "source": [
    "printer = Printer2D()\n",
    "printouts = printer.print_code(code, 'XYZXYZ')\n",
    "printouts[0].image"
   ]
  },
  {
   "cell_type": "markdown",
   "metadata": {},
   "source": [
    "All that's needed to define a code is to specify the 'checks'. A check is just something that's measured - usually a stabilizer, but could be a gauge operator in a subsystem code, or whatever the analogue is in a dynamic code like the honeycomb code."
   ]
  },
  {
   "cell_type": "code",
   "execution_count": 4,
   "metadata": {
    "pycharm": {
     "name": "#%%\n"
    }
   },
   "outputs": [
    {
     "data": {
      "text/plain": "<PIL.Image.Image image mode=RGB size=560x320 at 0x1059A5540>",
      "image/png": "[encoded data removed]"
     },
     "execution_count": 4,
     "metadata": {},
     "output_type": "execute_result"
    }
   ],
   "source": [
    "# Define the checks.\n",
    "checks = []\n",
    "xyzxyz = [PauliX, PauliY, PauliZ, PauliX, PauliY, PauliZ]\n",
    "\n",
    "for anchor in code.plaquette_anchors:\n",
    "    # On each hexagon, create one weight-6 XYZXYZ check.\n",
    "    corners = code.get_neighbour_coords(anchor)\n",
    "    data_qubits = [\n",
    "        code.data_qubits[code.wrap_coords(corner)]\n",
    "        for corner in corners]\n",
    "    offsets = [coords_minus(corner, anchor) for corner in corners]\n",
    "    paulis = {\n",
    "        offset: Pauli(qubit, letter)\n",
    "        for offset, qubit, letter in zip(offsets, data_qubits, xyzxyz)}\n",
    "    checks.append(Check(paulis, anchor))\n",
    "\n",
    "    # Also, create one of the weight-2 XX checks connected to this face.\n",
    "    u = corners[0]\n",
    "    v = code.get_neighbour_coords(u)[0]\n",
    "    X_u = Pauli(code.data_qubits[code.wrap_coords(u)], PauliX)\n",
    "    X_v = Pauli(code.data_qubits[code.wrap_coords(v)], PauliX)\n",
    "    midpoint = code.wrap_coords((u[0] + 2, u[1]))\n",
    "    checks.append(Check({(-2, 0): X_u, (2, 0): X_v}, midpoint))\n",
    "\n",
    "code.set_schedules([checks])\n",
    "\n",
    "printouts = printer.print_code(code, 'XYZXYZ_checks')\n",
    "printouts[0].image"
   ]
  },
  {
   "cell_type": "markdown",
   "metadata": {},
   "source": [
    "Pretty! But actually not a helpful colouring. Let's recolour things along electric/magnetic lines, and use a third colour for the little $XX$ checks."
   ]
  },
  {
   "cell_type": "code",
   "execution_count": 5,
   "metadata": {
    "pycharm": {
     "name": "#%%\n"
    }
   },
   "outputs": [
    {
     "data": {
      "text/plain": "<PIL.Image.Image image mode=RGB size=560x320 at 0x120579E40>",
      "image/png": "[encoded data removed]"
     },
     "execution_count": 5,
     "metadata": {},
     "output_type": "execute_result"
    }
   ],
   "source": [
    "for check in code.checks:\n",
    "    if check.weight == 2:\n",
    "        check.colour = Blue\n",
    "    elif code.is_electric(check):\n",
    "        check.colour = Green\n",
    "    else:\n",
    "        check.colour = Red\n",
    "\n",
    "printouts = printer.print_code(code, 'XYZXYZ_recoloured')\n",
    "printouts[0].image"
   ]
  },
  {
   "cell_type": "markdown",
   "metadata": {},
   "source": [
    "Better. Now let's define a logical $\\bar{X}$ operator/observable (pick your favourite term)."
   ]
  },
  {
   "cell_type": "code",
   "execution_count": 6,
   "metadata": {
    "pycharm": {
     "name": "#%%\n"
    }
   },
   "outputs": [
    {
     "data": {
      "text/plain": "<PIL.Image.Image image mode=RGB size=560x320 at 0x105D934F0>",
      "image/png": "[encoded data removed]"
     },
     "execution_count": 6,
     "metadata": {},
     "output_type": "execute_result"
    }
   ],
   "source": [
    "support = [(8, 4 * i + 2) for i in range(distance_x)]\n",
    "paulis = [Pauli(code.data_qubits[coords], PauliX) for coords in support]\n",
    "logical_x = LogicalOperator(paulis)\n",
    "# Would normally give the logical Z too, but we're being lazy.\n",
    "logical_qubit = LogicalQubit(logical_x, None)\n",
    "code.logical_qubits = [logical_qubit]\n",
    "\n",
    "printouts = printer.print_code(code, 'XYZXYZ_logical')\n",
    "printouts[0].image"
   ]
  },
  {
   "cell_type": "markdown",
   "metadata": {},
   "source": [
    "We've now fully defined the code! Now to think about compiling it to a circuit. First we need to think about what states to initialise the data qubits into, and what to measure at the end. One way to do this is to specify which operators we'd like to specify at the start and end."
   ]
  },
  {
   "cell_type": "code",
   "execution_count": 7,
   "metadata": {
    "pycharm": {
     "name": "#%%\n"
    }
   },
   "outputs": [],
   "source": [
    "initial_stabilizers = []\n",
    "final_stabilizers = []\n",
    "for x in range(4, 12 * distance_z // 2, 12):\n",
    "    for y in range(0, 4 * distance_x, 4):\n",
    "        # Take each electric XX check...\n",
    "        xx_check = next(\n",
    "            check for check in code.checks\n",
    "            if check.anchor == (x, y))\n",
    "        # ... and the electric XYZXYZ check above it...\n",
    "        xyzxyz_check = next(\n",
    "            check for check in code.checks if\n",
    "            check.anchor == (x, y + 2))\n",
    "        # ... and combine them into a stabilizer. One for the start...\n",
    "        timed_checks = [(0, xx_check), (0, xyzxyz_check)]\n",
    "        initial_stabilizers.append(Stabilizer(timed_checks, 0, (x, y + 2, 0)))\n",
    "        # ... and one for the end.\n",
    "        timed_checks = [(-1, xx_check), (-1, xyzxyz_check)]\n",
    "        final_stabilizers.append(Stabilizer(timed_checks, 0, (x, y + 2, 0)))\n",
    "\n",
    "# Now do the magnetic XX stabilizers\n",
    "for x in range(10, 12 * distance_z // 2, 12):\n",
    "    for y in range(2, 4 * distance_x, 4):\n",
    "        xx_check = next(\n",
    "            check for check in code.checks\n",
    "            if check.anchor == (x, y))\n",
    "        initial_stabilizers.append(Stabilizer([(0, xx_check)], 0, (x, y, 0)))\n",
    "        final_stabilizers.append(Stabilizer([(-1, xx_check)], 0, (x, y, 0)))"
   ]
  },
  {
   "cell_type": "markdown",
   "metadata": {
    "pycharm": {
     "name": "#%% md\n"
    }
   },
   "source": [
    "To compile this, we must specify how to extract the syndromes. We'll use a single ancilla qubit per ancilla, and specify a CNOT ordering between the ancilla and the data qubits."
   ]
  },
  {
   "cell_type": "code",
   "execution_count": 8,
   "metadata": {
    "pycharm": {
     "name": "#%%\n"
    }
   },
   "outputs": [],
   "source": [
    "class XyzSquaredOrderer(ControlledGateOrderer):\n",
    "    def __init__(self):\n",
    "        super().__init__()\n",
    "        self.xx_order = {\n",
    "            (2, 0): 1,\n",
    "            (-2, 0): 4}\n",
    "        self.xyzxyz_order = {\n",
    "            (4, 0): 1,\n",
    "            (2, 2): 3,\n",
    "            (-2, 2): 5,\n",
    "            (-4, 0): 4,\n",
    "            (-2, -2): 2,\n",
    "            (2, -2): 0}\n",
    "\n",
    "    def order(self, check: Check) -> List[Pauli | None]:\n",
    "        paulis = [None for _ in range(6)]\n",
    "        ordering = self.xx_order if check.weight == 2 else self.xyzxyz_order\n",
    "        for offset, pauli in check.paulis.items():\n",
    "            order = ordering[offset]\n",
    "            paulis[order] = pauli\n",
    "        return paulis"
   ]
  },
  {
   "cell_type": "markdown",
   "metadata": {},
   "source": [
    "Now we can combine this with a noise model to get a compiler. We'll choose circuit-level noise."
   ]
  },
  {
   "cell_type": "code",
   "execution_count": 9,
   "metadata": {
    "pycharm": {
     "name": "#%%\n"
    }
   },
   "outputs": [],
   "source": [
    "syndrome_extractor = CxCyCzExtractor(XyzSquaredOrderer())\n",
    "noise_model = CircuitLevelNoise(0.01, 0.02, 0.03, 0.04, 0.05)\n",
    "compiler = AncillaPerCheckCompiler(noise_model, syndrome_extractor)"
   ]
  },
  {
   "cell_type": "markdown",
   "metadata": {},
   "source": [
    " Done! Now we can use this compiler to run a memory experiment simulation. First, compile to a Stim circuit."
   ]
  },
  {
   "cell_type": "code",
   "execution_count": 17,
   "metadata": {
    "pycharm": {
     "name": "#%%\n"
    }
   },
   "outputs": [
    {
     "name": "stdout",
     "output_type": "stream",
     "text": [
      "|████████████████████████████████████████✗︎ (!) 35/33 [106%] in 0.2s (174.88/s)                                          \n",
      "QUBIT_COORDS(0, 2) 0\n",
      "QUBIT_COORDS(0, 6) 1\n",
      "QUBIT_COORDS(0, 10) 2\n",
      "QUBIT_COORDS(2, 0) 3\n",
      "QUBIT_COORDS(2, 4) 4\n",
      "QUBIT_COORDS(2, 8) 5\n",
      "QUBIT_COORDS(4, 0) 6\n",
      "QUBIT_COORDS(4, 2) 7\n",
      "QUBIT_COORDS(4, 4) 8\n",
      "QUBIT_COORDS(4, 6) 9\n",
      "QUBIT_COORDS(4, 8) 10\n",
      "QUBIT_COORDS(4, 10) 11\n",
      "QUBIT_COORDS(6, 0) 12\n",
      "QUBIT_COORDS(6, 4) 13\n",
      "QUBIT_COORDS(6, 8) 14\n",
      "QUBIT_COORDS(8, 2) 15\n",
      "QUBIT_COORDS(8, 6) 16\n",
      "QUBIT_COORDS(8, 10) 17\n",
      "QUBIT_COORDS(10, 0) 18\n",
      "QUBIT_COORDS(10, 2) 19\n",
      "QUBIT_COORDS(10, 4) 20\n",
      "QUBIT_COORDS(10, 6) 21\n",
      "QUBIT_COORDS(10, 8) 22\n",
      "QUBIT_COORDS(10, 10) 23\n",
      "QUBIT_COORDS(12, 2) 24\n",
      "QUBIT_COORDS(12, 6) 25\n",
      "QUBIT_COORDS(12, 10) 26\n",
      "QUBIT_COORDS(14, 0) 27\n",
      "QUBIT_COORDS(14, 4) 28\n",
      "QUBIT_COORDS(14, 8) 29\n",
      "QUBIT_COORDS(16, 0) 30\n",
      "QUBIT_COORDS(16, 2) 31\n",
      "QUBIT_COORDS(16, 4) 32\n",
      "QUBIT_COORDS(16, 6) 33\n",
      "QUBIT_COORDS(16, 8) 34\n",
      "QUBIT_COORDS(16, 10) 35\n",
      "QUBIT_COORDS(18, 0) 36\n",
      "QUBIT_COORDS(18, 4) 37\n",
      "QUBIT_COORDS(18, 8) 38\n",
      "QUBIT_COORDS(20, 2) 39\n",
      "QUBIT_COORDS(20, 6) 40\n",
      "QUBIT_COORDS(20, 10) 41\n",
      "QUBIT_COORDS(22, 0) 42\n",
      "QUBIT_COORDS(22, 2) 43\n",
      "QUBIT_COORDS(22, 4) 44\n",
      "QUBIT_COORDS(22, 6) 45\n",
      "QUBIT_COORDS(22, 8) 46\n",
      "QUBIT_COORDS(22, 10) 47\n",
      "R 3\n",
      "RY 12\n",
      "RX 15\n",
      "RY 13\n",
      "R 4\n",
      "RX 0 16\n",
      "RY 14\n",
      "R 5\n",
      "RX 1 17 2\n",
      "R 27\n",
      "RY 36\n",
      "RX 39\n",
      "RY 37\n",
      "R 28\n",
      "RX 24 40\n",
      "RY 38\n",
      "R 29\n",
      "RX 25 41 26\n",
      "TICK\n",
      "PAULI_CHANNEL_1(0.00333333, 0.00333333, 0.00333333) 3 12 15 13 4 0 16 14 5 1 17 2 27 36 39 37 28 24 40 38 29 25 41 26\n",
      "TICK\n",
      "RX 7 19 9 21 11 23 18 30 20 32 22 34 31 43 33 45 35 47 42 6 44 8 46 10\n",
      "TICK\n",
      "PAULI_CHANNEL_1(0.00333333, 0.00333333, 0.00333333) 7 19 9 21 11 23 18 30 20 32 22 34 31 43 33 45 35 47 42 6 44 8 46 10\n",
      "PAULI_CHANNEL_1(0.00666667, 0.00666667, 0.00666667) 3 25 1 27 2 17 12 16 4 41 24 29 14 28 40 39 36 13 26 0 5 15 37 38\n",
      "TICK\n",
      "CZ 7 12 9 13 11 14 18 26 20 24 22 25 31 36 33 37 35 38 42 2 44 0 46 1\n",
      "TICK\n",
      "PAULI_CHANNEL_2(0.00266667, 0.00266667, 0.00266667, 0.00266667, 0.00266667, 0.00266667, 0.00266667, 0.00266667, 0.00266667, 0.00266667, 0.00266667, 0.00266667, 0.00266667, 0.00266667, 0.00266667) 7 12 9 13 11 14 18 26 20 24 22 25 31 36 33 37 35 38 42 2 44 0 46 1\n",
      "PAULI_CHANNEL_1(0.00666667, 0.00666667, 0.00666667) 3 43 10 27 17 6 16 4 41 29 45 8 28 47 40 32 19 39 23 30 5 15 21 34\n",
      "TICK\n",
      "CX 7 15 19 24 9 16 21 25 11 17 23 26 18 27 30 36 20 28 32 37 22 29 34 38 31 39 43 0 33 40 45 1 35 41 47 2 42 3 6 12 44 4 8 13 46 5 10 14\n",
      "TICK\n",
      "PAULI_CHANNEL_2(0.00266667, 0.00266667, 0.00266667, 0.00266667, 0.00266667, 0.00266667, 0.00266667, 0.00266667, 0.00266667, 0.00266667, 0.00266667, 0.00266667, 0.00266667, 0.00266667, 0.00266667) 7 15 19 24 9 16 21 25 11 17 23 26 18 27 30 36 20 28 32 37 22 29 34 38 31 39 43 0 33 40 45 1 35 41 47 2 42 3 6 12 44 4 8 13 46 5 10 14\n",
      "TICK\n",
      "CY 7 3 9 4 11 5 18 17 20 15 22 16 31 27 33 28 35 29 42 41 44 39 46 40\n",
      "TICK\n",
      "PAULI_CHANNEL_2(0.00266667, 0.00266667, 0.00266667, 0.00266667, 0.00266667, 0.00266667, 0.00266667, 0.00266667, 0.00266667, 0.00266667, 0.00266667, 0.00266667, 0.00266667, 0.00266667, 0.00266667) 7 3 9 4 11 5 18 17 20 15 22 16 31 27 33 28 35 29 42 41 44 39 46 40\n",
      "PAULI_CHANNEL_1(0.00666667, 0.00666667, 0.00666667) 43 25 1 10 2 12 6 24 45 14 8 47 32 19 36 13 23 26 0 30 37 38 21 34\n",
      "TICK\n",
      "CY 7 13 9 14 11 12 18 24 20 25 22 26 31 37 33 38 35 36 42 0 44 1 46 2\n",
      "TICK\n",
      "PAULI_CHANNEL_2(0.00266667, 0.00266667, 0.00266667, 0.00266667, 0.00266667, 0.00266667, 0.00266667, 0.00266667, 0.00266667, 0.00266667, 0.00266667, 0.00266667, 0.00266667, 0.00266667, 0.00266667) 7 13 9 14 11 12 18 24 20 25 22 26 31 37 33 38 35 36 42 0 44 1 46 2\n",
      "PAULI_CHANNEL_1(0.00666667, 0.00666667, 0.00666667) 3 43 10 27 17 6 16 4 41 29 45 8 28 47 40 32 19 39 23 30 5 15 21 34\n",
      "TICK\n",
      "CX 7 0 19 15 9 1 21 16 11 2 23 17 18 12 30 27 20 13 32 28 22 14 34 29 31 24 43 39 33 25 45 40 35 26 47 41 42 36 6 3 44 37 8 4 46 38 10 5\n",
      "TICK\n",
      "PAULI_CHANNEL_2(0.00266667, 0.00266667, 0.00266667, 0.00266667, 0.00266667, 0.00266667, 0.00266667, 0.00266667, 0.00266667, 0.00266667, 0.00266667, 0.00266667, 0.00266667, 0.00266667, 0.00266667) 7 0 19 15 9 1 21 16 11 2 23 17 18 12 30 27 20 13 32 28 22 14 34 29 31 24 43 39 33 25 45 40 35 26 47 41 42 36 6 3 44 37 8 4 46 38 10 5\n",
      "TICK\n",
      "CZ 7 4 9 5 11 3 18 15 20 16 22 17 31 28 33 29 35 27 42 39 44 40 46 41\n",
      "TICK\n",
      "PAULI_CHANNEL_2(0.00266667, 0.00266667, 0.00266667, 0.00266667, 0.00266667, 0.00266667, 0.00266667, 0.00266667, 0.00266667, 0.00266667, 0.00266667, 0.00266667, 0.00266667, 0.00266667, 0.00266667) 7 4 9 5 11 3 18 15 20 16 22 17 31 28 33 29 35 27 42 39 44 40 46 41\n",
      "PAULI_CHANNEL_1(0.00666667, 0.00666667, 0.00666667) 43 25 1 10 2 12 6 24 45 14 8 47 32 19 36 13 23 26 0 30 37 38 21 34\n",
      "TICK\n",
      "MX(0.05) 7 19 9 21 11 23 18 30 20 32 22 34 31 43 33 45 35 47 42 6 44 8 46 10\n",
      "DETECTOR(10, 2, 0) rec[-23]\n",
      "DETECTOR(10, 6, 0) rec[-21]\n",
      "DETECTOR(10, 10, 0) rec[-19]\n",
      "DETECTOR(16, 2, 0) rec[-17] rec[-12]\n",
      "DETECTOR(22, 2, 0) rec[-11]\n",
      "DETECTOR(16, 6, 0) rec[-15] rec[-10]\n",
      "DETECTOR(22, 6, 0) rec[-9]\n",
      "DETECTOR(16, 10, 0) rec[-13] rec[-8]\n",
      "DETECTOR(22, 10, 0) rec[-7]\n",
      "DETECTOR(4, 2, 0) rec[-5] rec[-24]\n",
      "DETECTOR(4, 6, 0) rec[-3] rec[-22]\n",
      "DETECTOR(4, 10, 0) rec[-1] rec[-20]\n",
      "SHIFT_COORDS(0, 0, 1)\n",
      "TICK\n",
      "PAULI_CHANNEL_1(0.00666667, 0.00666667, 0.00666667) 3 25 1 27 2 17 12 16 4 41 24 29 14 28 40 39 36 13 26 0 5 15 37 38\n",
      "TICK\n",
      "RX 7 19 9 21 11 23 18 30 20 32 22 34 31 43 33 45 35 47 42 6 44 8 46 10\n",
      "TICK\n",
      "PAULI_CHANNEL_1(0.00333333, 0.00333333, 0.00333333) 7 19 9 21 11 23 18 30 20 32 22 34 31 43 33 45 35 47 42 6 44 8 46 10\n",
      "PAULI_CHANNEL_1(0.00666667, 0.00666667, 0.00666667) 3 25 1 27 2 17 12 16 4 41 24 29 14 28 40 39 36 13 26 0 5 15 37 38\n",
      "TICK\n",
      "CZ 7 12 9 13 11 14 18 26 20 24 22 25 31 36 33 37 35 38 42 2 44 0 46 1\n",
      "TICK\n",
      "PAULI_CHANNEL_2(0.00266667, 0.00266667, 0.00266667, 0.00266667, 0.00266667, 0.00266667, 0.00266667, 0.00266667, 0.00266667, 0.00266667, 0.00266667, 0.00266667, 0.00266667, 0.00266667, 0.00266667) 7 12 9 13 11 14 18 26 20 24 22 25 31 36 33 37 35 38 42 2 44 0 46 1\n",
      "PAULI_CHANNEL_1(0.00666667, 0.00666667, 0.00666667) 3 43 10 27 17 6 16 4 41 29 45 8 28 47 40 32 19 39 23 30 5 15 21 34\n",
      "TICK\n",
      "CX 7 15 19 24 9 16 21 25 11 17 23 26 18 27 30 36 20 28 32 37 22 29 34 38 31 39 43 0 33 40 45 1 35 41 47 2 42 3 6 12 44 4 8 13 46 5 10 14\n",
      "TICK\n",
      "PAULI_CHANNEL_2(0.00266667, 0.00266667, 0.00266667, 0.00266667, 0.00266667, 0.00266667, 0.00266667, 0.00266667, 0.00266667, 0.00266667, 0.00266667, 0.00266667, 0.00266667, 0.00266667, 0.00266667) 7 15 19 24 9 16 21 25 11 17 23 26 18 27 30 36 20 28 32 37 22 29 34 38 31 39 43 0 33 40 45 1 35 41 47 2 42 3 6 12 44 4 8 13 46 5 10 14\n",
      "TICK\n",
      "CY 7 3 9 4 11 5 18 17 20 15 22 16 31 27 33 28 35 29 42 41 44 39 46 40\n",
      "TICK\n",
      "PAULI_CHANNEL_2(0.00266667, 0.00266667, 0.00266667, 0.00266667, 0.00266667, 0.00266667, 0.00266667, 0.00266667, 0.00266667, 0.00266667, 0.00266667, 0.00266667, 0.00266667, 0.00266667, 0.00266667) 7 3 9 4 11 5 18 17 20 15 22 16 31 27 33 28 35 29 42 41 44 39 46 40\n",
      "PAULI_CHANNEL_1(0.00666667, 0.00666667, 0.00666667) 43 25 1 10 2 12 6 24 45 14 8 47 32 19 36 13 23 26 0 30 37 38 21 34\n",
      "TICK\n",
      "CY 7 13 9 14 11 12 18 24 20 25 22 26 31 37 33 38 35 36 42 0 44 1 46 2\n",
      "TICK\n",
      "PAULI_CHANNEL_2(0.00266667, 0.00266667, 0.00266667, 0.00266667, 0.00266667, 0.00266667, 0.00266667, 0.00266667, 0.00266667, 0.00266667, 0.00266667, 0.00266667, 0.00266667, 0.00266667, 0.00266667) 7 13 9 14 11 12 18 24 20 25 22 26 31 37 33 38 35 36 42 0 44 1 46 2\n",
      "PAULI_CHANNEL_1(0.00666667, 0.00666667, 0.00666667) 3 43 10 27 17 6 16 4 41 29 45 8 28 47 40 32 19 39 23 30 5 15 21 34\n",
      "TICK\n",
      "CX 7 0 19 15 9 1 21 16 11 2 23 17 18 12 30 27 20 13 32 28 22 14 34 29 31 24 43 39 33 25 45 40 35 26 47 41 42 36 6 3 44 37 8 4 46 38 10 5\n",
      "TICK\n",
      "PAULI_CHANNEL_2(0.00266667, 0.00266667, 0.00266667, 0.00266667, 0.00266667, 0.00266667, 0.00266667, 0.00266667, 0.00266667, 0.00266667, 0.00266667, 0.00266667, 0.00266667, 0.00266667, 0.00266667) 7 0 19 15 9 1 21 16 11 2 23 17 18 12 30 27 20 13 32 28 22 14 34 29 31 24 43 39 33 25 45 40 35 26 47 41 42 36 6 3 44 37 8 4 46 38 10 5\n",
      "TICK\n",
      "CZ 7 4 9 5 11 3 18 15 20 16 22 17 31 28 33 29 35 27 42 39 44 40 46 41\n",
      "TICK\n",
      "PAULI_CHANNEL_2(0.00266667, 0.00266667, 0.00266667, 0.00266667, 0.00266667, 0.00266667, 0.00266667, 0.00266667, 0.00266667, 0.00266667, 0.00266667, 0.00266667, 0.00266667, 0.00266667, 0.00266667) 7 4 9 5 11 3 18 15 20 16 22 17 31 28 33 29 35 27 42 39 44 40 46 41\n",
      "PAULI_CHANNEL_1(0.00666667, 0.00666667, 0.00666667) 43 25 1 10 2 12 6 24 45 14 8 47 32 19 36 13 23 26 0 30 37 38 21 34\n",
      "TICK\n",
      "MX(0.05) 7 19 9 21 11 23 18 30 20 32 22 34 31 43 33 45 35 47 42 6 44 8 46 10\n",
      "DETECTOR(4, 2, 0) rec[-24] rec[-48]\n",
      "DETECTOR(10, 2, 0) rec[-23] rec[-47]\n",
      "DETECTOR(4, 6, 0) rec[-22] rec[-46]\n",
      "DETECTOR(10, 6, 0) rec[-21] rec[-45]\n",
      "DETECTOR(4, 10, 0) rec[-20] rec[-44]\n",
      "DETECTOR(10, 10, 0) rec[-19] rec[-43]\n",
      "DETECTOR(10, 0, 0) rec[-18] rec[-42]\n",
      "DETECTOR(16, 0, 0) rec[-17] rec[-41]\n",
      "DETECTOR(10, 4, 0) rec[-16] rec[-40]\n",
      "DETECTOR(16, 4, 0) rec[-15] rec[-39]\n",
      "DETECTOR(10, 8, 0) rec[-14] rec[-38]\n",
      "DETECTOR(16, 8, 0) rec[-13] rec[-37]\n",
      "DETECTOR(16, 2, 0) rec[-12] rec[-36]\n",
      "DETECTOR(22, 2, 0) rec[-11] rec[-35]\n",
      "DETECTOR(16, 6, 0) rec[-10] rec[-34]\n",
      "DETECTOR(22, 6, 0) rec[-9] rec[-33]\n",
      "DETECTOR(16, 10, 0) rec[-8] rec[-32]\n",
      "DETECTOR(22, 10, 0) rec[-7] rec[-31]\n",
      "DETECTOR(22, 0, 0) rec[-6] rec[-30]\n",
      "DETECTOR(4, 0, 0) rec[-5] rec[-29]\n",
      "DETECTOR(22, 4, 0) rec[-4] rec[-28]\n",
      "DETECTOR(4, 4, 0) rec[-3] rec[-27]\n",
      "DETECTOR(22, 8, 0) rec[-2] rec[-26]\n",
      "DETECTOR(4, 8, 0) rec[-1] rec[-25]\n",
      "SHIFT_COORDS(0, 0, 1)\n",
      "TICK\n",
      "PAULI_CHANNEL_1(0.00666667, 0.00666667, 0.00666667) 3 25 1 27 2 17 12 16 4 41 24 29 14 28 40 39 36 13 26 0 5 15 37 38\n",
      "TICK\n",
      "M(0.05) 3\n",
      "MY(0.05) 12\n",
      "MX(0.05) 15\n",
      "MY(0.05) 13\n",
      "M(0.05) 4\n",
      "MX(0.05) 0 16\n",
      "MY(0.05) 14\n",
      "M(0.05) 5\n",
      "MX(0.05) 1 17 2\n",
      "M(0.05) 27\n",
      "MY(0.05) 36\n",
      "MX(0.05) 39\n",
      "MY(0.05) 37\n",
      "M(0.05) 28\n",
      "MX(0.05) 24 40\n",
      "MY(0.05) 38\n",
      "M(0.05) 29\n",
      "MX(0.05) 25 41 26\n",
      "DETECTOR(4, 2, 0) rec[-24] rec[-23] rec[-22] rec[-21] rec[-20] rec[-19] rec[-29] rec[-48]\n",
      "DETECTOR(4, 6, 0) rec[-20] rec[-21] rec[-18] rec[-17] rec[-16] rec[-15] rec[-27] rec[-46]\n",
      "DETECTOR(4, 10, 0) rec[-16] rec[-17] rec[-14] rec[-23] rec[-24] rec[-13] rec[-25] rec[-44]\n",
      "DETECTOR(22, 2, 0) rec[-10] rec[-19] rec[-35]\n",
      "DETECTOR(16, 2, 0) rec[-12] rec[-11] rec[-10] rec[-9] rec[-8] rec[-7] rec[-41] rec[-36]\n",
      "DETECTOR(10, 2, 0) rec[-22] rec[-7] rec[-47]\n",
      "DETECTOR(22, 6, 0) rec[-6] rec[-15] rec[-33]\n",
      "DETECTOR(16, 6, 0) rec[-8] rec[-9] rec[-6] rec[-5] rec[-4] rec[-3] rec[-39] rec[-34]\n",
      "DETECTOR(10, 6, 0) rec[-18] rec[-3] rec[-45]\n",
      "DETECTOR(22, 10, 0) rec[-2] rec[-13] rec[-31]\n",
      "DETECTOR(16, 10, 0) rec[-4] rec[-5] rec[-2] rec[-11] rec[-12] rec[-1] rec[-37] rec[-32]\n",
      "DETECTOR(10, 10, 0) rec[-14] rec[-1] rec[-43]\n",
      "OBSERVABLE_INCLUDE(0) rec[-22] rec[-18] rec[-14]\n"
     ]
    }
   ],
   "source": [
    "circuit = compiler.compile_code(\n",
    "    code, code.distance,\n",
    "    initial_stabilizers=initial_stabilizers,\n",
    "    final_stabilizers=final_stabilizers,\n",
    "    logical_observables=[code.logical_qubits[0].x])\n",
    "print(circuit)"
   ]
  },
  {
   "cell_type": "markdown",
   "metadata": {
    "pycharm": {
     "name": "#%% md\n"
    }
   },
   "source": [
    "To decode our circuit, need to write a decoder. Didn't have time to do this before this demo! Fortunately, it turns out that for small $(XYZ)^2$ codes, Stim can figure out a way to just use matching. So we can at least show the breakeven point for a specific small code under this decoder."
   ]
  },
  {
   "cell_type": "code",
   "execution_count": null,
   "metadata": {
    "pycharm": {
     "name": "#%%\n"
    }
   },
   "outputs": [],
   "source": [
    "noise_parameters = [0.0005 * i + 0.0005 for i in range(10)]\n",
    "\n",
    "def xyz_squared_tasks():\n",
    "    tasks = []\n",
    "    syndrome_extractor = CxCyCzExtractor(ToricXyzSquaredOrderer())\n",
    "    distances = [(3, 4, 3)]\n",
    "    for noise_parameter in noise_parameters:\n",
    "        print(f'Circuit-level noise parameter: {noise_parameter}')\n",
    "        for distance in distances:\n",
    "            print(f'Distance: {distance}')\n",
    "            tasks.append(xyz_squared_task(\n",
    "                distance, noise_parameter, syndrome_extractor))\n",
    "    return tasks\n",
    "\n",
    "\n",
    "def xyz_squared_task(\n",
    "        distance: Tuple[int, int, int], noise_model_parameter: float,\n",
    "        syndrome_extractor: SyndromeExtractor):\n",
    "    p = noise_model_parameter\n",
    "    noise_model = CircuitLevelNoise(p, p, p, p, p)\n",
    "    compiler = AncillaPerCheckCompiler(noise_model, syndrome_extractor)\n",
    "\n",
    "    distance_x, distance_z, layers = distance\n",
    "    code = ToricXyzSquaredCode(distance_x, distance_z)\n",
    "    initial_stabilizers, final_stabilizers = code.get_plus_plus_stabilizers()\n",
    "    circuit = compiler.compile_code(\n",
    "        code,\n",
    "        layers,\n",
    "        initial_stabilizers=initial_stabilizers,\n",
    "        final_stabilizers=final_stabilizers,\n",
    "        logical_observables=[code.logical_qubits[0].x])\n",
    "    return sinter.Task(\n",
    "        circuit=circuit,\n",
    "        json_metadata={\n",
    "            'distance': distance,\n",
    "            'p': noise_model_parameter})"
   ]
  },
  {
   "cell_type": "markdown",
   "metadata": {
    "pycharm": {
     "name": "#%% md\n"
    }
   },
   "source": [
    "Now wait while Sinter works its magic..."
   ]
  },
  {
   "cell_type": "code",
   "execution_count": null,
   "metadata": {
    "pycharm": {
     "name": "#%%\n"
    }
   },
   "outputs": [
    {
     "name": "stdout",
     "output_type": "stream",
     "text": [
      "Circuit-level noise parameter: 0.0005\n",
      "Distance: (3, 4, 3)\n",
      "|████████████████████████████████████████✗︎ (!) 51/48 [106%] in 0.3s (161.93/s)                                          \n",
      "Circuit-level noise parameter: 0.001\n",
      "Distance: (3, 4, 3)\n",
      "|████████████████████████████████████████✗︎ (!) 51/48 [106%] in 0.3s (161.50/s)                                          \n",
      "Circuit-level noise parameter: 0.0015\n",
      "Distance: (3, 4, 3)\n",
      "|████████████████████████████████████████✗︎ (!) 51/48 [106%] in 0.3s (163.21/s)                                          \n",
      "Circuit-level noise parameter: 0.002\n",
      "Distance: (3, 4, 3)\n",
      "|████████████████████████████████████████✗︎ (!) 51/48 [106%] in 0.3s (161.40/s)                                          \n",
      "Circuit-level noise parameter: 0.0025\n",
      "Distance: (3, 4, 3)\n",
      "|████████████████████████████████████████✗︎ (!) 51/48 [106%] in 0.3s (193.87/s)                                          \n",
      "Circuit-level noise parameter: 0.003\n",
      "Distance: (3, 4, 3)\n",
      "|████████████████████████████████████████✗︎ (!) 51/48 [106%] in 0.3s (166.42/s)                                          \n",
      "Circuit-level noise parameter: 0.0035\n",
      "Distance: (3, 4, 3)\n",
      "|████████████████████████████████████████✗︎ (!) 51/48 [106%] in 0.3s (152.81/s)                                          \n",
      "Circuit-level noise parameter: 0.004\n",
      "Distance: (3, 4, 3)\n",
      "|████████████████████████████████████████✗︎ (!) 51/48 [106%] in 0.3s (164.31/s)                                           0s) \n",
      "Circuit-level noise parameter: 0.0045000000000000005\n",
      "Distance: (3, 4, 3)\n",
      "|████████████████████████████████████████✗︎ (!) 51/48 [106%] in 0.3s (164.17/s)                                           0s) \n",
      "Circuit-level noise parameter: 0.005000000000000001\n",
      "Distance: (3, 4, 3)\n",
      "|████████████████████████████████████████✗︎ (!) 51/48 [106%] in 0.3s (164.75/s)                                          \n"
     ]
    },
    {
     "name": "stderr",
     "output_type": "stream",
     "text": [
      "\u001B[31mStarting workers...\u001B[0m\n",
      "\u001B[31m10 cases left\n",
      "    case: processes=4  ~core_mins_left=7       shots_left=499500   errors_left=100     {'distance': (3, 4, 3), 'p': 0.0005}\n",
      "    case: processes=4  ~core_mins_left=6       shots_left=499400   errors_left=100     {'distance': (3, 4, 3), 'p': 0.001}\n",
      "    case: processes=0  ~core_mins_left=28      shots_left=499900   errors_left=100     {'distance': (3, 4, 3), 'p': 0.0015}\n",
      "    case: processes=0  ~core_mins_left=1       shots_left=499900   errors_left=98      {'distance': (3, 4, 3), 'p': 0.002}\n",
      "    case: processes=0  ~core_mins_left=28      shots_left=499900   errors_left=100     {'distance': (3, 4, 3), 'p': 0.0025}\n",
      "    case: processes=0  ~core_mins_left=29      shots_left=499900   errors_left=100     {'distance': (3, 4, 3), 'p': 0.003}\n",
      "    case: processes=0  ~core_mins_left=1       shots_left=499900   errors_left=99      {'distance': (3, 4, 3), 'p': 0.0035}\n",
      "    case: processes=0  ~core_mins_left=1       shots_left=499900   errors_left=97      {'distance': (3, 4, 3), 'p': 0.004}\u001B[0m\n",
      "\u001B[31m10 cases left\n",
      "    case: processes=5  ~core_mins_left=1       shots_left=472800   errors_left=97      {'distance': (3, 4, 3), 'p': 0.0005}\n",
      "    case: processes=3  ~core_mins_left=1       shots_left=479200   errors_left=80      {'distance': (3, 4, 3), 'p': 0.001}\n",
      "    case: processes=0  ~core_mins_left=28      shots_left=499900   errors_left=100     {'distance': (3, 4, 3), 'p': 0.0015}\n",
      "    case: processes=0  ~core_mins_left=1       shots_left=499900   errors_left=98      {'distance': (3, 4, 3), 'p': 0.002}\n",
      "    case: processes=0  ~core_mins_left=28      shots_left=499900   errors_left=100     {'distance': (3, 4, 3), 'p': 0.0025}\n",
      "    case: processes=0  ~core_mins_left=29      shots_left=499900   errors_left=100     {'distance': (3, 4, 3), 'p': 0.003}\n",
      "    case: processes=0  ~core_mins_left=1       shots_left=499900   errors_left=99      {'distance': (3, 4, 3), 'p': 0.0035}\n",
      "    case: processes=0  ~core_mins_left=1       shots_left=499900   errors_left=97      {'distance': (3, 4, 3), 'p': 0.004}\u001B[0m\n",
      "\u001B[31m10 cases left\n",
      "    case: processes=5  ~core_mins_left=1       shots_left=459200   errors_left=95      {'distance': (3, 4, 3), 'p': 0.0005}\n",
      "    case: processes=3  ~core_mins_left=1       shots_left=468000   errors_left=71      {'distance': (3, 4, 3), 'p': 0.001}\n",
      "    case: processes=0  ~core_mins_left=28      shots_left=499900   errors_left=100     {'distance': (3, 4, 3), 'p': 0.0015}\n",
      "    case: processes=0  ~core_mins_left=1       shots_left=499900   errors_left=98      {'distance': (3, 4, 3), 'p': 0.002}\n",
      "    case: processes=0  ~core_mins_left=28      shots_left=499900   errors_left=100     {'distance': (3, 4, 3), 'p': 0.0025}\n",
      "    case: processes=0  ~core_mins_left=29      shots_left=499900   errors_left=100     {'distance': (3, 4, 3), 'p': 0.003}\n",
      "    case: processes=0  ~core_mins_left=1       shots_left=499900   errors_left=99      {'distance': (3, 4, 3), 'p': 0.0035}\n",
      "    case: processes=0  ~core_mins_left=1       shots_left=499900   errors_left=97      {'distance': (3, 4, 3), 'p': 0.004}\u001B[0m\n",
      "\u001B[31m10 cases left\n",
      "    case: processes=6  ~core_mins_left=1       shots_left=406400   errors_left=87      {'distance': (3, 4, 3), 'p': 0.0005}\n",
      "    case: processes=2  ~core_mins_left=1       shots_left=458930   errors_left=64      {'distance': (3, 4, 3), 'p': 0.001}\n",
      "    case: processes=0  ~core_mins_left=28      shots_left=499900   errors_left=100     {'distance': (3, 4, 3), 'p': 0.0015}\n",
      "    case: processes=0  ~core_mins_left=1       shots_left=499900   errors_left=98      {'distance': (3, 4, 3), 'p': 0.002}\n",
      "    case: processes=0  ~core_mins_left=28      shots_left=499900   errors_left=100     {'distance': (3, 4, 3), 'p': 0.0025}\n",
      "    case: processes=0  ~core_mins_left=29      shots_left=499900   errors_left=100     {'distance': (3, 4, 3), 'p': 0.003}\n",
      "    case: processes=0  ~core_mins_left=1       shots_left=499900   errors_left=99      {'distance': (3, 4, 3), 'p': 0.0035}\n",
      "    case: processes=0  ~core_mins_left=1       shots_left=499900   errors_left=97      {'distance': (3, 4, 3), 'p': 0.004}\u001B[0m\n",
      "\u001B[31m10 cases left\n",
      "    case: processes=3  ~core_mins_left=1       shots_left=328800   errors_left=74      {'distance': (3, 4, 3), 'p': 0.0005}\n",
      "    case: processes=1  ~core_mins_left=1       shots_left=427268   errors_left=27      {'distance': (3, 4, 3), 'p': 0.001}\n",
      "    case: processes=4  ~core_mins_left=1       shots_left=494000   errors_left=91      {'distance': (3, 4, 3), 'p': 0.0015}\n",
      "    case: processes=0  ~core_mins_left=1       shots_left=499900   errors_left=98      {'distance': (3, 4, 3), 'p': 0.002}\n",
      "    case: processes=0  ~core_mins_left=28      shots_left=499900   errors_left=100     {'distance': (3, 4, 3), 'p': 0.0025}\n",
      "    case: processes=0  ~core_mins_left=29      shots_left=499900   errors_left=100     {'distance': (3, 4, 3), 'p': 0.003}\n",
      "    case: processes=0  ~core_mins_left=1       shots_left=499900   errors_left=99      {'distance': (3, 4, 3), 'p': 0.0035}\n",
      "    case: processes=0  ~core_mins_left=1       shots_left=499900   errors_left=97      {'distance': (3, 4, 3), 'p': 0.004}\u001B[0m\n",
      "\u001B[31m10 cases left\n",
      "    case: processes=3  ~core_mins_left=1       shots_left=328800   errors_left=74      {'distance': (3, 4, 3), 'p': 0.0005}\n",
      "    case: processes=1  ~core_mins_left=1       shots_left=427268   errors_left=27      {'distance': (3, 4, 3), 'p': 0.001}\n",
      "    case: processes=4  ~core_mins_left=1       shots_left=486200   errors_left=75      {'distance': (3, 4, 3), 'p': 0.0015}\n",
      "    case: processes=0  ~core_mins_left=1       shots_left=499900   errors_left=98      {'distance': (3, 4, 3), 'p': 0.002}\n",
      "    case: processes=0  ~core_mins_left=28      shots_left=499900   errors_left=100     {'distance': (3, 4, 3), 'p': 0.0025}\n",
      "    case: processes=0  ~core_mins_left=29      shots_left=499900   errors_left=100     {'distance': (3, 4, 3), 'p': 0.003}\n",
      "    case: processes=0  ~core_mins_left=1       shots_left=499900   errors_left=99      {'distance': (3, 4, 3), 'p': 0.0035}\n",
      "    case: processes=0  ~core_mins_left=1       shots_left=499900   errors_left=97      {'distance': (3, 4, 3), 'p': 0.004}\u001B[0m\n",
      "\u001B[31m9 cases left\n",
      "    case: processes=3  ~core_mins_left=1       shots_left=328800   errors_left=74      {'distance': (3, 4, 3), 'p': 0.0005}\n",
      "    case: processes=1  ~core_mins_left=1       shots_left=462632   errors_left=28      {'distance': (3, 4, 3), 'p': 0.0015}\n",
      "    case: processes=3  ~core_mins_left=1       shots_left=491500   errors_left=60      {'distance': (3, 4, 3), 'p': 0.002}\n",
      "    case: processes=1  ~core_mins_left=1       shots_left=499100   errors_left=96      {'distance': (3, 4, 3), 'p': 0.0025}\n",
      "    case: processes=0  ~core_mins_left=29      shots_left=499900   errors_left=100     {'distance': (3, 4, 3), 'p': 0.003}\n",
      "    case: processes=0  ~core_mins_left=1       shots_left=499900   errors_left=99      {'distance': (3, 4, 3), 'p': 0.0035}\n",
      "    case: processes=0  ~core_mins_left=1       shots_left=499900   errors_left=97      {'distance': (3, 4, 3), 'p': 0.004}\u001B[0m\n",
      "\u001B[31m7 cases left\n",
      "    case: processes=3  ~core_mins_left=1       shots_left=328800   errors_left=74      {'distance': (3, 4, 3), 'p': 0.0005}\n",
      "    case: processes=3  ~core_mins_left=1       shots_left=494600   errors_left=67      {'distance': (3, 4, 3), 'p': 0.0025}\n",
      "    case: processes=2  ~core_mins_left=1       shots_left=498500   errors_left=88      {'distance': (3, 4, 3), 'p': 0.003}\n",
      "    case: processes=0  ~core_mins_left=1       shots_left=499900   errors_left=99      {'distance': (3, 4, 3), 'p': 0.0035}\n",
      "    case: processes=0  ~core_mins_left=1       shots_left=499900   errors_left=97      {'distance': (3, 4, 3), 'p': 0.004}\u001B[0m\n",
      "\u001B[31m5 cases left\n",
      "    case: processes=2  ~core_mins_left=1       shots_left=247200   errors_left=66      {'distance': (3, 4, 3), 'p': 0.0005}\n",
      "    case: processes=1  ~core_mins_left=1       shots_left=493020   errors_left=13      {'distance': (3, 4, 3), 'p': 0.0035}\n",
      "    case: processes=1  ~core_mins_left=1       shots_left=495973   errors_left=28      {'distance': (3, 4, 3), 'p': 0.004}\n",
      "    case: processes=4  ~core_mins_left=1       shots_left=499400   errors_left=83      {'distance': (3, 4, 3), 'p': 0.0045000000000000005}\n",
      "    case: processes=0  ~core_mins_left=1       shots_left=499900   errors_left=99      {'distance': (3, 4, 3), 'p': 0.005000000000000001}\u001B[0m\n",
      "\u001B[31m1 cases left\n",
      "    case: processes=2  ~core_mins_left=1       shots_left=247200   errors_left=66      {'distance': (3, 4, 3), 'p': 0.0005}\u001B[0m\n",
      "\u001B[31m1 cases left\n",
      "    case: processes=1  ~core_mins_left=1       shots_left=126400   errors_left=43      {'distance': (3, 4, 3), 'p': 0.0005}\u001B[0m\n"
     ]
    },
    {
     "data": {
      "text/plain": "<Figure size 432x288 with 1 Axes>",
      "image/png": "[encoded data removed]"
     },
     "metadata": {
      "needs_background": "light"
     },
     "output_type": "display_data"
    }
   ],
   "source": [
    "# Collect the samples (takes a few minutes).\n",
    "tasks = xyz_squared_tasks()\n",
    "samples = sinter.collect(\n",
    "    tasks=tasks,\n",
    "    hint_num_tasks=len(tasks),\n",
    "    num_workers=8,\n",
    "    max_shots=500000,\n",
    "    max_errors=100,\n",
    "    decoders=['pymatching'],\n",
    "    print_progress=True\n",
    ")\n",
    "\n",
    "filename = 'XyzSquared'\n",
    "now = datetime.now().strftime('%Y%m%d_%H%M%S')\n",
    "filename = f'{output_path()}/{filename}_{now}'\n",
    "Path(Path(filename).parent).mkdir(parents=True, exist_ok=True)\n",
    "\n",
    "# Render a matplotlib plot of the data.\n",
    "fig, ax = plt.subplots(1, 1)\n",
    "sinter.plot_error_rate(\n",
    "    ax=ax,\n",
    "    stats=samples,\n",
    "    group_func=lambda stat: f\"XYZXYZ, d={stat.json_metadata['distance']}\",\n",
    "    x_func=lambda stat: stat.json_metadata['p'],\n",
    ")\n",
    "\n",
    "# Add the breakeven line y=x\n",
    "ax.plot(noise_parameters, noise_parameters)\n",
    "\n",
    "ax.loglog()\n",
    "ax.set_ylim(1e-5, 1)\n",
    "ax.grid()\n",
    "ax.set_title('Logical Error Rate vs Noisiness')\n",
    "ax.set_ylabel('Logical Error Probability (per shot)')\n",
    "ax.set_xlabel('Circuit-Level Noise Parameter')\n",
    "ax.legend()\n",
    "\n",
    "# Save to file and also open in a window.\n",
    "fig.savefig(f'{filename}.png')\n",
    "plt.show()"
   ]
  },
  {
   "cell_type": "code",
   "execution_count": null,
   "metadata": {
    "pycharm": {
     "name": "#%%\n"
    }
   },
   "outputs": [],
   "source": []
  }
 ],
 "metadata": {
  "kernelspec": {
   "display_name": "Python 3.10.2 ('FTQPU_env')",
   "language": "python",
   "name": "python3"
  },
  "language_info": {
   "codemirror_mode": {
    "name": "ipython",
    "version": 3
   },
   "file_extension": ".py",
   "mimetype": "text/x-python",
   "name": "python",
   "nbconvert_exporter": "python",
   "pygments_lexer": "ipython3",
   "version": "3.10.2"
  },
  "vscode": {
   "interpreter": {
    "hash": "3bfe578c87f9e87a1aba4f9877784a22ddfc8c8f026e1929e65df748f8538267"
   }
  }
 },
 "nbformat": 4,
 "nbformat_minor": 1
}
