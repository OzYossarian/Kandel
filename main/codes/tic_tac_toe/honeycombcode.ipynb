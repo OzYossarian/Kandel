{
 "cells": [
  {
   "cell_type": "code",
   "execution_count": 1,
   "metadata": {},
   "outputs": [],
   "source": [
    "from main.compiling.compilers.AncillaPerCheckCompiler import AncillaPerCheckCompiler\n",
    "from main.compiling.noise.models.NoiseModel import NoiseModel\n",
    "from main.compiling.noise.noises import OneQubitNoise\n",
    "from main.compiling.noise.noises import OneBitNoise\n",
    "from main.compiling.syndrome_extraction.extractors.ancilla_per_check.mixed.CxCyCzExtractor import CxCyCzExtractor\n",
    "from main.codes.tic_tac_toe.HoneycombCode import HoneycombCode\n",
    "from main.codes.tic_tac_toe.FloquetColourCode import FloquetColourCode\n",
    "from main.utils.enums import State\n",
    "from main.building_blocks.pauli import Pauli\n",
    "from main.building_blocks.pauli.PauliLetter import PauliLetter\n",
    "from main.printing.Printer2D import Printer2D\n",
    "from main.utils.Colour import Blue, Green, Red\n",
    "from main.codes.tic_tac_toe.TicTacToeCode import TicTacToeCode\n",
    "\n"
   ]
  },
  {
   "cell_type": "code",
   "execution_count": 3,
   "metadata": {},
   "outputs": [
    {
     "name": "stdout",
     "output_type": "stream",
     "text": [
      "{'letter': 'X', 'sign': 1} letter\n",
      "{'letter': 'Z', 'sign': 1} letter\n"
     ]
    }
   ],
   "source": [
    "class HoneycombCodeB(TicTacToeCode):\n",
    "    def __init__(self, distance: int):\n",
    "        tic_tac_toe = [\n",
    "            (Blue, PauliLetter('Z')),\n",
    "            (Green, PauliLetter('Y')),\n",
    "            (Red, PauliLetter('X'))]\n",
    "        super().__init__(distance, tic_tac_toe)\n",
    "code = HoneycombCodeB(4)\n"
   ]
  },
  {
   "cell_type": "code",
   "execution_count": 2,
   "metadata": {},
   "outputs": [
    {
     "name": "stdout",
     "output_type": "stream",
     "text": [
      "-1\n"
     ]
    },
    {
     "ename": "NameError",
     "evalue": "name 'code' is not defined",
     "output_type": "error",
     "traceback": [
      "\u001b[0;31m---------------------------------------------------------------------------\u001b[0m",
      "\u001b[0;31mNameError\u001b[0m                                 Traceback (most recent call last)",
      "\u001b[1;32m/home/pderks/Documents/phd/Kandel/main/codes/tic_tac_toe/honeycombcode.ipynb Cell 3\u001b[0m in \u001b[0;36m<cell line: 1>\u001b[0;34m()\u001b[0m\n\u001b[1;32m      <a href='vscode-notebook-cell:/home/pderks/Documents/phd/Kandel/main/codes/tic_tac_toe/honeycombcode.ipynb#X12sZmlsZQ%3D%3D?line=0'>1</a>\u001b[0m \u001b[39mfor\u001b[39;00m i \u001b[39min\u001b[39;00m \u001b[39mrange\u001b[39m(\u001b[39m-\u001b[39m\u001b[39m1\u001b[39m,\u001b[39m6\u001b[39m):\n\u001b[1;32m      <a href='vscode-notebook-cell:/home/pderks/Documents/phd/Kandel/main/codes/tic_tac_toe/honeycombcode.ipynb#X12sZmlsZQ%3D%3D?line=1'>2</a>\u001b[0m     \u001b[39mprint\u001b[39m(i)\n\u001b[0;32m----> <a href='vscode-notebook-cell:/home/pderks/Documents/phd/Kandel/main/codes/tic_tac_toe/honeycombcode.ipynb#X12sZmlsZQ%3D%3D?line=2'>3</a>\u001b[0m     \u001b[39mprint\u001b[39m(code\u001b[39m.\u001b[39mlogical_qubits[\u001b[39m1\u001b[39m]\u001b[39m.\u001b[39mz\u001b[39m.\u001b[39mat_round(i),\u001b[39m'\u001b[39m\u001b[39mlogical\u001b[39m\u001b[39m'\u001b[39m)\n\u001b[1;32m      <a href='vscode-notebook-cell:/home/pderks/Documents/phd/Kandel/main/codes/tic_tac_toe/honeycombcode.ipynb#X12sZmlsZQ%3D%3D?line=3'>4</a>\u001b[0m     checks_multiplied_in \u001b[39m=\u001b[39m code\u001b[39m.\u001b[39mlogical_qubits[\u001b[39m1\u001b[39m]\u001b[39m.\u001b[39mz\u001b[39m.\u001b[39mupdate(i\u001b[39m+\u001b[39m\u001b[39m1\u001b[39m)\n\u001b[1;32m      <a href='vscode-notebook-cell:/home/pderks/Documents/phd/Kandel/main/codes/tic_tac_toe/honeycombcode.ipynb#X12sZmlsZQ%3D%3D?line=4'>5</a>\u001b[0m     \u001b[39mprint\u001b[39m(\u001b[39mlen\u001b[39m(checks_multiplied_in),\u001b[39m'\u001b[39m\u001b[39mlen\u001b[39m\u001b[39m'\u001b[39m)\n",
      "\u001b[0;31mNameError\u001b[0m: name 'code' is not defined"
     ]
    }
   ],
   "source": [
    "for i in range(-1,6):\n",
    "    print(i)\n",
    "    print(code.logical_qubits[1].z.at_round(i),'logical')\n",
    "    checks_multiplied_in = code.logical_qubits[1].z.update(i+1)\n",
    "    print(len(checks_multiplied_in),'len')\n",
    "#    print(checks_multiplied_in[0].product.word.word)\n",
    "    coords_of_checks_multiplied_in = set(\n",
    "        pauli.qubit.coords for pauli in checks_multiplied_in[0].paulis.values())\n",
    "    coords_of_checks_multiplied_in.update(\n",
    "        set(pauli.qubit.coords for pauli in checks_multiplied_in[1].paulis.values())\n",
    "    )\n",
    "    print(coords_of_checks_multiplied_in)\n",
    "    print('\\n')\n",
    "\n",
    "#print(code.logical_qubits[0].x.at_round(0))\n",
    "#print('\\n')\n",
    "#print(code.logical_qubits[0].x.at_round(1))\n",
    "#print(code.logical_qubits[1].x.at_round(2))\n",
    "\n",
    "code.logical_qubits = [code.logical_qubits[1]]"
   ]
  },
  {
   "cell_type": "code",
   "execution_count": 66,
   "metadata": {},
   "outputs": [
    {
     "name": "stdout",
     "output_type": "stream",
     "text": [
      "3\n"
     ]
    },
    {
     "data": {
      "image/png": "[encoded data removed]",
      "text/plain": [
       "<PIL.Image.Image image mode=RGB size=520x280 at 0x7F128E29FD90>"
      ]
     },
     "execution_count": 66,
     "metadata": {},
     "output_type": "execute_result"
    }
   ],
   "source": [
    "printer = Printer2D()\n",
    "printouts = printer.print_code(code, 'XYZXYZ',print_logicals=True,layers=2)\n",
    "printouts[0].image"
   ]
  },
  {
   "cell_type": "code",
   "execution_count": 37,
   "metadata": {},
   "outputs": [
    {
     "data": {
      "image/png": "[encoded data removed]",
      "text/plain": [
       "<PIL.Image.Image image mode=RGB size=520x280 at 0x7F128DBFFA00>"
      ]
     },
     "execution_count": 37,
     "metadata": {},
     "output_type": "execute_result"
    }
   ],
   "source": [
    "printouts[1].image"
   ]
  },
  {
   "cell_type": "code",
   "execution_count": 38,
   "metadata": {},
   "outputs": [
    {
     "data": {
      "image/png": "[encoded data removed]",
      "text/plain": [
       "<PIL.Image.Image image mode=RGB size=520x280 at 0x7F128DBFCEB0>"
      ]
     },
     "execution_count": 38,
     "metadata": {},
     "output_type": "execute_result"
    }
   ],
   "source": [
    "printouts[2].image"
   ]
  },
  {
   "cell_type": "code",
   "execution_count": 39,
   "metadata": {},
   "outputs": [
    {
     "data": {
      "image/png": "[encoded data removed]",
      "text/plain": [
       "<PIL.Image.Image image mode=RGB size=520x280 at 0x7F128DBFC820>"
      ]
     },
     "execution_count": 39,
     "metadata": {},
     "output_type": "execute_result"
    }
   ],
   "source": [
    "printouts[3].image"
   ]
  },
  {
   "cell_type": "code",
   "execution_count": 16,
   "metadata": {},
   "outputs": [
    {
     "data": {
      "image/png": "[encoded data removed]",
      "text/plain": [
       "<PIL.Image.Image image mode=RGB size=520x280 at 0x7F128E2E9690>"
      ]
     },
     "execution_count": 16,
     "metadata": {},
     "output_type": "execute_result"
    }
   ],
   "source": [
    "printouts[4].image"
   ]
  },
  {
   "cell_type": "code",
   "execution_count": 17,
   "metadata": {},
   "outputs": [
    {
     "data": {
      "image/png": "[encoded data removed]",
      "text/plain": [
       "<PIL.Image.Image image mode=RGB size=520x280 at 0x7F128E2EB670>"
      ]
     },
     "execution_count": 17,
     "metadata": {},
     "output_type": "execute_result"
    }
   ],
   "source": [
    "printouts[5].image"
   ]
  },
  {
   "cell_type": "code",
   "execution_count": null,
   "metadata": {},
   "outputs": [],
   "source": []
  }
 ],
 "metadata": {
  "kernelspec": {
   "display_name": "Python 3.10.2 ('FTQPU_env')",
   "language": "python",
   "name": "python3"
  },
  "language_info": {
   "codemirror_mode": {
    "name": "ipython",
    "version": 3
   },
   "file_extension": ".py",
   "mimetype": "text/x-python",
   "name": "python",
   "nbconvert_exporter": "python",
   "pygments_lexer": "ipython3",
   "version": "3.10.2"
  },
  "orig_nbformat": 4,
  "vscode": {
   "interpreter": {
    "hash": "3bfe578c87f9e87a1aba4f9877784a22ddfc8c8f026e1929e65df748f8538267"
   }
  }
 },
 "nbformat": 4,
 "nbformat_minor": 2
}
